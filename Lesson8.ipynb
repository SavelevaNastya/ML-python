{
 "cells": [
  {
   "cell_type": "markdown",
   "metadata": {
    "slideshow": {
     "slide_type": "slide"
    }
   },
   "source": [
    "# Задания\n",
    "\n",
    "1. Создайте и обучите модель для MNIST\n",
    "2. Оцените точность результата\n",
    "3. Используйте часть обучающихся данных как валидацию (аргумент у метода fit validation_split) и выведите график изменения точности (значения в переменной history)\n",
    "4. Постройте полносвязную нейронную сеть и обучите её на данных с Титаника"
   ]
  },
  {
   "cell_type": "code",
   "execution_count": 5,
   "metadata": {},
   "outputs": [
    {
     "name": "stdout",
     "output_type": "stream",
     "text": [
      "x_train shape: (60000, 28, 28, 1)\n",
      "x_test shape: (10000, 28, 28, 1)\n"
     ]
    }
   ],
   "source": [
    "# 1. Создайте и обучите модель для MNIST\n",
    "# 2. Оцените точность результата\n",
    "import numpy as np\n",
    "import matplotlib.pyplot as plt\n",
    "from keras.datasets import mnist\n",
    "from keras.datasets import cifar10\n",
    "from keras.layers import Dense, Conv2D, Input, Flatten, MaxPool2D\n",
    "from keras.models import Model\n",
    "from tensorflow.keras.utils import to_categorical\n",
    "from keras.utils.vis_utils import plot_model\n",
    "\n",
    "(x_train, y_train), (x_test, y_test) = mnist.load_data()\n",
    "y_train_cl = to_categorical(y_train, num_classes=10)\n",
    "y_test_cl = to_categorical(y_test, num_classes=10)\n",
    "x_train_scaled = x_train.astype(\"float32\") / 255\n",
    "x_test_scaled = x_test.astype(\"float32\") / 255\n",
    "\n",
    "x_train_scaled = np.expand_dims(x_train_scaled, -1)\n",
    "x_test_scaled = np.expand_dims(x_test_scaled, -1)\n",
    "print(\"x_train shape:\", x_train_scaled.shape)\n",
    "print(\"x_test shape:\", x_test_scaled.shape)"
   ]
  },
  {
   "cell_type": "code",
   "execution_count": 10,
   "metadata": {},
   "outputs": [
    {
     "name": "stdout",
     "output_type": "stream",
     "text": [
      "Epoch 1/10\n",
      "3750/3750 [==============================] - 25s 7ms/step - loss: 0.1598 - accuracy: 0.9513\n",
      "Epoch 2/10\n",
      "3750/3750 [==============================] - 26s 7ms/step - loss: 0.0755 - accuracy: 0.9767\n",
      "Epoch 3/10\n",
      "3750/3750 [==============================] - 26s 7ms/step - loss: 0.0611 - accuracy: 0.9815\n",
      "Epoch 4/10\n",
      "3750/3750 [==============================] - 30s 8ms/step - loss: 0.0532 - accuracy: 0.9830\n",
      "Epoch 5/10\n",
      "3750/3750 [==============================] - 30s 8ms/step - loss: 0.0477 - accuracy: 0.9852\n",
      "Epoch 6/10\n",
      "3750/3750 [==============================] - 29s 8ms/step - loss: 0.0456 - accuracy: 0.9853 0s - loss:\n",
      "Epoch 7/10\n",
      "3750/3750 [==============================] - 30s 8ms/step - loss: 0.0411 - accuracy: 0.9866\n",
      "Epoch 8/10\n",
      "3750/3750 [==============================] - 25s 7ms/step - loss: 0.0390 - accuracy: 0.9872\n",
      "Epoch 9/10\n",
      "3750/3750 [==============================] - 26s 7ms/step - loss: 0.0355 - accuracy: 0.9883\n",
      "Epoch 10/10\n",
      "3750/3750 [==============================] - 27s 7ms/step - loss: 0.0347 - accuracy: 0.9887\n"
     ]
    }
   ],
   "source": [
    "inp = Input(shape=(28, 28, 1))\n",
    "layer = Conv2D(filters=8, kernel_size=(3, 3), padding='same')(inp)\n",
    "layer = MaxPool2D(pool_size=(2, 2))(layer)\n",
    "layer = Conv2D(filters=16, kernel_size=(3, 3), padding='same')(layer)\n",
    "layer = MaxPool2D(pool_size=(2, 2))(layer)\n",
    "layer = Flatten()(layer)\n",
    "layer = Dense(units=128)(layer)\n",
    "out = Dense(units=10, activation='softmax')(layer)\n",
    "model = Model(inp, out)\n",
    "model.compile(optimizer='adam', loss='categorical_crossentropy', metrics=['accuracy'])\n",
    "\n",
    "y_pred = model.predict(x_test_scaled) # Предсказание на необученной модели\n",
    "history = model.fit(x_train_scaled, y_train_cl, batch_size=16, epochs=10) #Обучение"
   ]
  },
  {
   "cell_type": "code",
   "execution_count": 12,
   "metadata": {},
   "outputs": [
    {
     "name": "stdout",
     "output_type": "stream",
     "text": [
      "313/313 [==============================] - 2s 5ms/step - loss: 0.0709 - accuracy: 0.9808\n"
     ]
    }
   ],
   "source": [
    "# 2\n",
    "loss,accuracy = model.evaluate(x_test_scaled,y_test_cl,verbose = 1) # Предсказание на обученной модели"
   ]
  },
  {
   "cell_type": "code",
   "execution_count": 3,
   "metadata": {},
   "outputs": [
    {
     "name": "stdout",
     "output_type": "stream",
     "text": [
      "Epoch 1/10\n",
      "2625/2625 [==============================] - 24s 9ms/step - loss: 0.0309 - accuracy: 0.9896 - val_loss: 0.0365 - val_accuracy: 0.9889\n",
      "Epoch 2/10\n",
      "2625/2625 [==============================] - 25s 9ms/step - loss: 0.0251 - accuracy: 0.9915 - val_loss: 0.0359 - val_accuracy: 0.9891\n",
      "Epoch 3/10\n",
      "2625/2625 [==============================] - 23s 9ms/step - loss: 0.0252 - accuracy: 0.9917 - val_loss: 0.0402 - val_accuracy: 0.9874\n",
      "Epoch 4/10\n",
      "2625/2625 [==============================] - 21s 8ms/step - loss: 0.0230 - accuracy: 0.9925 - val_loss: 0.0546 - val_accuracy: 0.9857\n",
      "Epoch 5/10\n",
      "2625/2625 [==============================] - 21s 8ms/step - loss: 0.0227 - accuracy: 0.9923 - val_loss: 0.0502 - val_accuracy: 0.9856\n",
      "Epoch 6/10\n",
      "2625/2625 [==============================] - 21s 8ms/step - loss: 0.0203 - accuracy: 0.9930 - val_loss: 0.0647 - val_accuracy: 0.9843\n",
      "Epoch 7/10\n",
      "2625/2625 [==============================] - 20s 8ms/step - loss: 0.0197 - accuracy: 0.9936 - val_loss: 0.0569 - val_accuracy: 0.9854\n",
      "Epoch 8/10\n",
      "2625/2625 [==============================] - 21s 8ms/step - loss: 0.0209 - accuracy: 0.9926 - val_loss: 0.0482 - val_accuracy: 0.9884\n",
      "Epoch 9/10\n",
      "2625/2625 [==============================] - 20s 8ms/step - loss: 0.0168 - accuracy: 0.9941 - val_loss: 0.0716 - val_accuracy: 0.9833\n",
      "Epoch 10/10\n",
      "2625/2625 [==============================] - 20s 8ms/step - loss: 0.0210 - accuracy: 0.9932 - val_loss: 0.0625 - val_accuracy: 0.9852\n"
     ]
    },
    {
     "data": {
      "text/plain": [
       "[<matplotlib.lines.Line2D at 0x1fb0e1fcaf0>]"
      ]
     },
     "execution_count": 8,
     "metadata": {},
     "output_type": "execute_result"
    },
    {
     "data": {
      "image/png": "[encoded data removed]",
      "text/plain": [
       "<Figure size 432x288 with 1 Axes>"
      ]
     },
     "metadata": {
      "needs_background": "light"
     },
     "output_type": "display_data"
    }
   ],
   "source": [
    "# 3. Используйте часть обучающихся данных как валидацию (аргумент у метода fit validation_split) \n",
    "# и выведите график изменения точности (значения в переменной history)\n",
    "\n",
    "history = model.fit(x_train_scaled, y_train_cl, batch_size=16, epochs=10, validation_split=0.3)\n",
    "history.history.keys()\n",
    "fig = plt.figure()\n",
    "plt.plot(history.history['accuracy'])"
   ]
  },
  {
   "cell_type": "code",
   "execution_count": 18,
   "metadata": {},
   "outputs": [],
   "source": [
    "# 4. Постройте полносвязную нейронную сеть и обучите её на данных с Титаника\n",
    "\n",
    "import pandas as pd\n",
    "from sklearn.model_selection import train_test_split\n",
    "\n",
    "df = pd.read_csv('data/titanic/train.csv')\n",
    "\n",
    "Y = df['Survived']\n",
    "X = df.drop(['Survived'], axis=1)\n",
    "\n",
    "X_train, X_test, y_train, y_test = train_test_split(X, Y, test_size=0.2, random_state=1)\n",
    "X_train, X_val, y_train, y_val = train_test_split(X_train, y_train, test_size=0.2, random_state=1)\n",
    "\n",
    "y_train_cl = to_categorical(y_train, num_classes=2)\n",
    "y_test_cl = to_categorical(y_test, num_classes=2)\n",
    "\n",
    "X_train = X_train.drop(['PassengerId', 'Name', 'Ticket', 'Cabin'], axis=1)\n",
    "X_test = X_test.drop(['PassengerId', 'Name', 'Ticket', 'Cabin'], axis=1)\n",
    "X_val = X_val.drop(['PassengerId', 'Name', 'Ticket', 'Cabin'], axis=1)\n",
    "\n",
    "def prepare_num(df):\n",
    "    df_num = df.drop(['Sex', 'Embarked', 'Pclass'], axis=1)\n",
    "    df_sex = pd.get_dummies(df['Sex'])\n",
    "    df_emb = pd.get_dummies(df['Embarked'], prefix='Emb')\n",
    "    df_pcl = pd.get_dummies(df['Pclass'], prefix='Pclass')\n",
    "\n",
    "    df_num = pd.concat((df_num, df_sex, df_emb, df_pcl), axis=1)\n",
    "    return df_num\n",
    "\n",
    "X_train = prepare_num(X_train)\n",
    "X_test = prepare_num(X_test)\n",
    "X_val = prepare_num(X_val)\n",
    "\n",
    "X_train = X_train.fillna(X_train.median())\n",
    "X_test = X_test.fillna(X_test.median())\n",
    "X_val = X_val.fillna(X_val.median())\n",
    "\n",
    "from sklearn.preprocessing import MinMaxScaler \n",
    "scaler = MinMaxScaler() # (x - x.min()) / (x.max() - x.min())  Почему кстати он применяется, а не StandartScaler?\n",
    "x_train_scaled = scaler.fit_transform(X_train)\n",
    "x_test_scaled = scaler.transform(X_test)\n",
    "x_val_scaled = scaler.transform(X_val)"
   ]
  },
  {
   "cell_type": "code",
   "execution_count": 19,
   "metadata": {},
   "outputs": [],
   "source": [
    "from keras.models import Sequential\n",
    "from keras.layers import Dropout\n",
    "\n",
    "model = Sequential()\n",
    "model.add(Dense(32, input_dim=12))\n",
    "model.add(Dropout(0.25))\n",
    "model.add(Dense(64, activation='relu'))\n",
    "model.add(Dropout(0.25))\n",
    "model.add(Dense(128, activation='relu'))\n",
    "model.add(Dense(64, activation='relu'))\n",
    "model.add(Dropout(0.25))\n",
    "model.add(Dense(16, activation='relu'))\n",
    "model.add(Dense(2, activation='softmax'))\n",
    "model.compile(loss=\"categorical_crossentropy\", optimizer='adam', metrics=['accuracy'])"
   ]
  },
  {
   "cell_type": "code",
   "execution_count": 20,
   "metadata": {},
   "outputs": [
    {
     "name": "stdout",
     "output_type": "stream",
     "text": [
      "Epoch 1/10\n",
      "25/25 [==============================] - 1s 10ms/step - loss: 0.6438 - accuracy: 0.6307 - val_loss: 0.5507 - val_accuracy: 0.8070\n",
      "Epoch 2/10\n",
      "25/25 [==============================] - 0s 4ms/step - loss: 0.5400 - accuracy: 0.7638 - val_loss: 0.4778 - val_accuracy: 0.8363\n",
      "Epoch 3/10\n",
      "25/25 [==============================] - 0s 4ms/step - loss: 0.4845 - accuracy: 0.7739 - val_loss: 0.4509 - val_accuracy: 0.8304\n",
      "Epoch 4/10\n",
      "25/25 [==============================] - 0s 4ms/step - loss: 0.4882 - accuracy: 0.7915 - val_loss: 0.4561 - val_accuracy: 0.8304\n",
      "Epoch 5/10\n",
      "25/25 [==============================] - 0s 4ms/step - loss: 0.4757 - accuracy: 0.8015 - val_loss: 0.4389 - val_accuracy: 0.8304\n",
      "Epoch 6/10\n",
      "25/25 [==============================] - 0s 4ms/step - loss: 0.4561 - accuracy: 0.8141 - val_loss: 0.4321 - val_accuracy: 0.8246\n",
      "Epoch 7/10\n",
      "25/25 [==============================] - 0s 4ms/step - loss: 0.4667 - accuracy: 0.8090 - val_loss: 0.4305 - val_accuracy: 0.8304\n",
      "Epoch 8/10\n",
      "25/25 [==============================] - 0s 4ms/step - loss: 0.4452 - accuracy: 0.8090 - val_loss: 0.4283 - val_accuracy: 0.8304\n",
      "Epoch 9/10\n",
      "25/25 [==============================] - 0s 4ms/step - loss: 0.4311 - accuracy: 0.8367 - val_loss: 0.4252 - val_accuracy: 0.8246\n",
      "Epoch 10/10\n",
      "25/25 [==============================] - 0s 4ms/step - loss: 0.4558 - accuracy: 0.8116 - val_loss: 0.4317 - val_accuracy: 0.8246\n",
      "6/6 [==============================] - 0s 2ms/step - loss: 0.4737 - accuracy: 0.7709\n"
     ]
    }
   ],
   "source": [
    "history = model.fit(x_train_scaled, y_train_cl, batch_size=16, epochs=10, validation_split=0.3) #Обучение\n",
    "loss,accuracy = model.evaluate(x_test_scaled,y_test_cl,verbose = 1) # Предсказание на обученной модели"
   ]
  },
  {
   "cell_type": "code",
   "execution_count": 21,
   "metadata": {},
   "outputs": [
    {
     "name": "stdout",
     "output_type": "stream",
     "text": [
      "6/6 [==============================] - 0s 2ms/step - loss: 0.4737 - accuracy: 0.7709\n"
     ]
    }
   ],
   "source": [
    "loss,accuracy = model.evaluate(x_test_scaled,y_test_cl,verbose = 1)"
   ]
  }
 ],
 "metadata": {
  "celltoolbar": "Slideshow",
  "kernelspec": {
   "display_name": "Python 3 (ipykernel)",
   "language": "python",
   "name": "python3"
  },
  "language_info": {
   "codemirror_mode": {
    "name": "ipython",
    "version": 3
   },
   "file_extension": ".py",
   "mimetype": "text/x-python",
   "name": "python",
   "nbconvert_exporter": "python",
   "pygments_lexer": "ipython3",
   "version": "3.9.6"
  }
 },
 "nbformat": 4,
 "nbformat_minor": 4
}

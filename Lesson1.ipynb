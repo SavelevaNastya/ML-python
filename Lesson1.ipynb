{
 "cells": [
  {
   "cell_type": "markdown",
   "metadata": {
    "slideshow": {
     "slide_type": "slide"
    }
   },
   "source": [
    "# Задания:\n",
    "1. Сгенерировать случайное трехзначное число. Вычислить сумму его цифр.  \n",
    "2. Сгенерировать случайное число. Вычислить сумму его цифр.  \n",
    "3. Задаётся радиус сферы, найти площадь её поверхности и объём.\n",
    "4. Задаётся год. Определить, является ли он високосным.\n",
    "5. Определить все числа из диапазона 1, N, являющиеся простыми.\n",
    "6. Пользователь делает вклад в размере X рублей сроком на Y лет под 10% годовых (каждый год размер его вклада увеличивается на 10%. Эти деньги прибавляются к сумме вклада, и на них в следующем году тоже будут проценты). Вычислить сумму, которая будет на счету пользователя."
   ]
  },
  {
   "cell_type": "code",
   "execution_count": 4,
   "metadata": {},
   "outputs": [
    {
     "name": "stdout",
     "output_type": "stream",
     "text": [
      "724\n",
      "a 7\n",
      "b 2\n",
      "c 4\n",
      "sum =  13\n"
     ]
    }
   ],
   "source": [
    "## 1. Сгенерировать случайное трехзначное число. Вычислить сумму его цифр. \n",
    "import random\n",
    "\n",
    "n = random.randint(100,1000);\n",
    "print(n)\n",
    "a = n // 100\n",
    "print('a',a)\n",
    "b = (n % 100) // 10\n",
    "print('b', b)\n",
    "c = n % 10\n",
    "print('c', c)\n",
    "s = a + b + c  \n",
    "print('sum = ', s)"
   ]
  },
  {
   "cell_type": "code",
   "execution_count": 37,
   "metadata": {},
   "outputs": [
    {
     "name": "stdout",
     "output_type": "stream",
     "text": [
      "98\n",
      "17\n"
     ]
    }
   ],
   "source": [
    "# 2. Сгенерировать случайное число. Вычислить сумму его цифр\n",
    "import random\n",
    "\n",
    "n = 2\n",
    "num = random.randint(10 ** (n-1), 10 ** (n))\n",
    "print(num)\n",
    "s = 0;\n",
    "#numb = list(str(num));\n",
    "#for i in numb:\n",
    "#    s = s + int(i)\n",
    "\n",
    "while (num > 0):\n",
    "    s += num % 10\n",
    "    num = num // 10\n",
    "    \n",
    "print(s)  "
   ]
  },
  {
   "cell_type": "code",
   "execution_count": 49,
   "metadata": {},
   "outputs": [
    {
     "name": "stdin",
     "output_type": "stream",
     "text": [
      " 1\n"
     ]
    },
    {
     "name": "stdout",
     "output_type": "stream",
     "text": [
      "12.566370614359172 \n",
      " 4.1887902047863905\n"
     ]
    }
   ],
   "source": [
    "# 3. Задаётся радиус сферы, найти площадь её поверхности и объём. \n",
    "import math\n",
    "r = input();\n",
    "square = 4.0 * math.pi * (float(r) ** 2)\n",
    "volume = 4.0 * math.pi * (float(r) ** 3)/3.0\n",
    "print(square, '\\n', volume)"
   ]
  },
  {
   "cell_type": "code",
   "execution_count": 5,
   "metadata": {},
   "outputs": [
    {
     "name": "stdout",
     "output_type": "stream",
     "text": [
      "не високосный\n"
     ]
    }
   ],
   "source": [
    "# 4. Задаётся год. Определить, является ли он високосным. \n",
    "year = 2025\n",
    "\n",
    "if (year % 4) == 0:\n",
    "    print('високосный')\n",
    "else:\n",
    "    print('не високосный')\n"
   ]
  },
  {
   "cell_type": "code",
   "execution_count": 11,
   "metadata": {},
   "outputs": [
    {
     "name": "stdout",
     "output_type": "stream",
     "text": [
      "[2, 3, 5, 7, 11, 13, 17, 19, 23]\n"
     ]
    }
   ],
   "source": [
    "# 5. Определить все числа из диапазона 1, N, являющиеся простыми\n",
    "x = 23\n",
    "flag = False\n",
    "numb = []\n",
    "for n in range(2, x + 1):\n",
    "    flag = True;\n",
    "    limiting_value = n ** 0.5 \n",
    "    #for d in numb:\n",
    "        #if( n % d == 0 ):\n",
    "            #flag = False;\n",
    "            #break;\n",
    "    #if(flag == True):\n",
    "        #numb.append(n)    \n",
    "    \n",
    "    for d in numb:\n",
    "        if (d <= limiting_value):\n",
    "            if ( n % d == 0 ):\n",
    "                flag = False;\n",
    "                break;\n",
    "    if( flag == True ):\n",
    "        numb.append(n)\n",
    "    \n",
    "print(numb)        "
   ]
  },
  {
   "cell_type": "code",
   "execution_count": 18,
   "metadata": {},
   "outputs": [
    {
     "name": "stdout",
     "output_type": "stream",
     "text": [
      "25937.424601000006\n",
      "25937.424601000024\n"
     ]
    }
   ],
   "source": [
    "# 6. Пользователь делает вклад в размере X рублей сроком на Y лет под 10% годовых \n",
    "# (каждый год размер его вклада увеличивается на 10%. Эти деньги прибавляются к сумме вклада, \n",
    "# и на них в следующем году тоже будут проценты). Вычислить сумму, которая будет на счету пользователя \n",
    "\n",
    "x = 10000;\n",
    "y = 10;\n",
    "per = 0.1;\n",
    "final_sum = x;\n",
    "for i in range(0,y):\n",
    "    final_sum = final_sum + final_sum * per;\n",
    "print(final_sum)    \n",
    "        \n",
    "fin_sum = x * ((1 + per) ** y)\n",
    "print(fin_sum) "
   ]
  }
 ],
 "metadata": {
  "celltoolbar": "Slideshow",
  "kernelspec": {
   "display_name": "Python 3 (ipykernel)",
   "language": "python",
   "name": "python3"
  },
  "language_info": {
   "codemirror_mode": {
    "name": "ipython",
    "version": 3
   },
   "file_extension": ".py",
   "mimetype": "text/x-python",
   "name": "python",
   "nbconvert_exporter": "python",
   "pygments_lexer": "ipython3",
   "version": "3.9.6"
  }
 },
 "nbformat": 4,
 "nbformat_minor": 4
}

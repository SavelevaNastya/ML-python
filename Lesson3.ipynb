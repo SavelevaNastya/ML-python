{
 "cells": [
  {
   "cell_type": "markdown",
   "metadata": {
    "slideshow": {
     "slide_type": "slide"
    },
    "tags": []
   },
   "source": [
    "# Задачи\n",
    "1. Отсортировать значения массива по частоте встречания.\n",
    "2. Дана картинка высоты h, ширины w, тип данных np.uint8 (от 0 до 255). Найти количество уникальных цветов.\n",
    "3. Написать функцию, вычислающую плавающее среднее вектора\n",
    "4. Дана матрица (n, 3). Вывести те тройки чисел, которые являются длинами сторон треугольника."
   ]
  },
  {
   "cell_type": "code",
   "execution_count": 10,
   "metadata": {},
   "outputs": [
    {
     "name": "stdout",
     "output_type": "stream",
     "text": [
      "[0 2 3 2 3 3 2 4 0 3] \n",
      "\n",
      "[4 0 0 2 2 2 3 3 3 3]\n"
     ]
    }
   ],
   "source": [
    "#Отсортировать значения массива по частоте встречания.\n",
    "\n",
    "import numpy as np\n",
    "\n",
    "a = np.random.randint(5, size=10)\n",
    "print(a,\"\\n\")\n",
    "val, freq = np.unique(a, return_counts = True)\n",
    "\n",
    "MyDict = {k: v for k, v in zip(val, freq)}\n",
    "b = [MyDict[x] for x in a]\n",
    "idx_new = np.argsort(b)\n",
    "a_new  = a[idx_new] \n",
    "print(a_new)"
   ]
  },
  {
   "cell_type": "code",
   "execution_count": 15,
   "metadata": {},
   "outputs": [
    {
     "name": "stdout",
     "output_type": "stream",
     "text": [
      "уникальных значений  98\n"
     ]
    }
   ],
   "source": [
    "#Дана картинка высоты h, ширины w, тип данных np.uint8 (от 0 до 255). Найти количество уникальных цветов. \n",
    "import numpy as np\n",
    "h = 10; w = 10;\n",
    "\n",
    "#pic = np.zeros((h,w,3), np.uint8)\n",
    "pic = np.random.randint(10, size=(h, w, 3), dtype=np.uint8); \n",
    "pic = pic.astype(int)\n",
    "r = pic[:,:,0]\n",
    "g = pic[:,:,1]\n",
    "b = pic[:,:,2]\n",
    "\n",
    "pic_new = r + g * 2 ** 8 + b * 2 **16\n",
    "print('уникальных значений ', len(np.unique(pic_new)))"
   ]
  },
  {
   "cell_type": "code",
   "execution_count": 7,
   "metadata": {},
   "outputs": [
    {
     "data": {
      "image/png": "[encoded data removed]",
      "text/plain": [
       "<Figure size 432x288 with 1 Axes>"
      ]
     },
     "metadata": {
      "needs_background": "light"
     },
     "output_type": "display_data"
    }
   ],
   "source": [
    "#Написать функцию, вычисляющую плавающее среднее вектора. \n",
    "import numpy as np\n",
    "import matplotlib.pyplot as plt \n",
    "\n",
    "last_value = 50\n",
    "window_size = 3\n",
    "interval = 10; #len of interval from 0 to ~1\n",
    "\n",
    "def fun_saw(last_value, interval):\n",
    "    res = np.zeros(last_value)\n",
    "    for i in range (0, last_value, interval):\n",
    "        res[i:i+interval] = np.linspace(0, 1, interval, endpoint=False)\n",
    "    return res\n",
    "\n",
    "vec = fun_saw(last_value, interval) #np.random.randint(10, size=sz)\n",
    "v1 = np.cumsum(vec, dtype=float)\n",
    "v1[window_size:] = v1[window_size:] - v1[:-window_size]\n",
    "v1 = v1[window_size - 1:] / window_size\n",
    "\n",
    "# ОТРИСОВКА \n",
    "plt.plot(vec)\n",
    "x = np.linspace(0, last_value, len(v1), endpoint=False)\n",
    "plt.scatter(x, v1, color='red')\n",
    "plt.show()"
   ]
  },
  {
   "cell_type": "code",
   "execution_count": 2,
   "metadata": {},
   "outputs": [
    {
     "name": "stdout",
     "output_type": "stream",
     "text": [
      "[[5 9 3]\n",
      " [5 8 8]\n",
      " [6 6 9]\n",
      " [2 1 0]\n",
      " [7 1 9]]\n",
      "\n",
      "[[5 8 8]\n",
      " [6 6 9]]\n"
     ]
    }
   ],
   "source": [
    "#Дана матрица (n, 3). Вывести те тройки чисел, которые являются длинами сторон треугольника \n",
    "import numpy as np\n",
    "n = 5\n",
    "mx = np.random.randint(10, size=(n, 3))\n",
    "print(mx)\n",
    "print()\n",
    "def fun(row):\n",
    "    a = row[0]\n",
    "    b = row[1]\n",
    "    c = row[2]\n",
    "    if ( a > 0 and b > 0 and c > 0 ):\n",
    "        if ( a + b > c and b + c > a and a + c > b):\n",
    "            return [True, True, True]\n",
    "        else:\n",
    "            return [False, False, False]\n",
    "    else:\n",
    "        return [False, False, False]\n",
    "    \n",
    "idx = np.apply_along_axis(fun, 1, mx)\n",
    "print(np.reshape(mx[idx], (-1,3)))"
   ]
  },
  {
   "cell_type": "code",
   "execution_count": 4,
   "metadata": {},
   "outputs": [
    {
     "name": "stdout",
     "output_type": "stream",
     "text": [
      "[[5 8 9]\n",
      " [5 0 0]\n",
      " [1 7 6]\n",
      " [9 2 4]\n",
      " [5 2 4]]\n",
      "\n"
     ]
    },
    {
     "data": {
      "text/plain": [
       "array([[5, 8, 9],\n",
       "       [5, 2, 4]])"
      ]
     },
     "execution_count": 4,
     "metadata": {},
     "output_type": "execute_result"
    }
   ],
   "source": [
    "#Дана матрица (n, 3). Вывести те тройки чисел, которые являются длинами сторон треугольника\n",
    "import numpy as np\n",
    "n = 5\n",
    "np.random.seed(1)\n",
    "mx = np.random.randint(10, size=(n, 3))\n",
    "print(mx)\n",
    "print()\n",
    "def fun(row):\n",
    "    a = row[0]\n",
    "    b = row[1]\n",
    "    c = row[2]\n",
    "    if ( a > 0 and b > 0 and c > 0 ):\n",
    "        if ( a + b > c and b + c > a and a + c > b):\n",
    "            return True\n",
    "        else:\n",
    "            return False\n",
    "    else:\n",
    "        return False\n",
    "    \n",
    "idx = np.apply_along_axis(fun, 1, mx)\n",
    "mx[idx]"
   ]
  }
 ],
 "metadata": {
  "celltoolbar": "Slideshow",
  "kernelspec": {
   "display_name": "Python 3 (ipykernel)",
   "language": "python",
   "name": "python3"
  },
  "language_info": {
   "codemirror_mode": {
    "name": "ipython",
    "version": 3
   },
   "file_extension": ".py",
   "mimetype": "text/x-python",
   "name": "python",
   "nbconvert_exporter": "python",
   "pygments_lexer": "ipython3",
   "version": "3.9.6"
  }
 },
 "nbformat": 4,
 "nbformat_minor": 4
}

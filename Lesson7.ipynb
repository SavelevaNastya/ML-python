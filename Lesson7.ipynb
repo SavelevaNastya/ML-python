{
 "cells": [
  {
   "cell_type": "markdown",
   "metadata": {
    "slideshow": {
     "slide_type": "slide"
    }
   },
   "source": [
    "# Задания\n",
    "\n",
    "1. Разделите данные Титаника (*train.csv*) на тренировочную, валидационную и тестовую часть. С помощью валидационной части подберите гиперпараметры для моделей Random Forest, XGBoost, Logistic Regression и KNN. Получите точность этих моделей на тестовой части.\n",
    "2. С помощью RandomForest выберите 2, 4, 8 самых важных признаков и проверьте точность моделей только на этих признаках.\n",
    "3. Используя координаты скважин из файла *wells_info.csv* разделите их на кластера с помощью любых 4 методов и отобразите разделение. Параметры подбираются самостоятельно.\n",
    "4. Приведите отобранные в 6.1 задании признаки из файла *wells_info_with_prod.csv* в двумерное пространство. Выделите цветом добычу с этой скважины."
   ]
  },
  {
   "cell_type": "code",
   "execution_count": 126,
   "metadata": {},
   "outputs": [],
   "source": [
    "# 1. Разделите данные Титаника (train.csv) на тренировочную, валидационную и тестовую часть.        \n",
    "# С помощью валидационной части подберите гиперпараметры для моделей \n",
    "# Random Forest, XGBoost, Logistic Regression и KNN. \n",
    "# Получите точность этих моделей на тестовой части.\n",
    "\n",
    "import pandas as pd\n",
    "from sklearn.model_selection import train_test_split\n",
    "\n",
    "df = pd.read_csv('data/titanic/train.csv')\n",
    "\n",
    "Y = df['Survived']\n",
    "X = df.drop(['Survived'], axis=1)\n",
    "\n",
    "X_train, X_test, y_train, y_test = train_test_split(X, Y, test_size=0.2, random_state=1)\n",
    "X_train, X_val, y_train, y_val = train_test_split(X_train, y_train, test_size=0.2, random_state=1)\n",
    "\n",
    "X_train = X_train.drop(['PassengerId', 'Name', 'Ticket', 'Cabin'], axis=1)\n",
    "X_test = X_test.drop(['PassengerId', 'Name', 'Ticket', 'Cabin'], axis=1)\n",
    "X_val = X_val.drop(['PassengerId', 'Name', 'Ticket', 'Cabin'], axis=1)\n",
    "\n",
    "def prepare_num(df):\n",
    "    df_num = df.drop(['Sex', 'Embarked', 'Pclass'], axis=1)\n",
    "    df_sex = pd.get_dummies(df['Sex'])\n",
    "    df_emb = pd.get_dummies(df['Embarked'], prefix='Emb')\n",
    "    df_pcl = pd.get_dummies(df['Pclass'], prefix='Pclass')\n",
    "\n",
    "    df_num = pd.concat((df_num, df_sex, df_emb, df_pcl), axis=1)\n",
    "    return df_num\n",
    "\n",
    "X_train = prepare_num(X_train)\n",
    "X_test = prepare_num(X_test)\n",
    "X_val = prepare_num(X_val)\n",
    "\n",
    "X_train = X_train.fillna(X_train.median())\n",
    "X_test = X_test.fillna(X_test.median())\n",
    "X_val = X_val.fillna(X_val.median())\n",
    "\n",
    "from sklearn.preprocessing import MinMaxScaler \n",
    "scaler = MinMaxScaler() # (x - x.min()) / (x.max() - x.min())  Почему кстати он применяется, а не StandartScaler?\n",
    "x_train = scaler.fit_transform(X_train)\n",
    "x_test = scaler.transform(X_test)\n",
    "x_val = scaler.transform(X_val)"
   ]
  },
  {
   "cell_type": "code",
   "execution_count": 127,
   "metadata": {},
   "outputs": [
    {
     "name": "stdout",
     "output_type": "stream",
     "text": [
      "model - random_forest accuracy_valid: 0.8041958041958042\n",
      "model - random_forest accuracy_valid: 0.8111888111888111\n",
      "model - random_forest accuracy_valid: 0.8181818181818182\n",
      "model - random_forest accuracy_test: 0.776536312849162\n"
     ]
    }
   ],
   "source": [
    "#    Random Forest\n",
    "from sklearn.metrics import accuracy_score\n",
    "from sklearn.ensemble import RandomForestClassifier\n",
    "\n",
    "model_random_forest = RandomForestClassifier(n_estimators=20, max_depth=4, criterion='entropy') #1\n",
    "model_random_forest.fit(x_train, y_train)\n",
    "y_predict = model_random_forest.predict(x_val)\n",
    "print(\"model - random_forest accuracy_valid:\", accuracy_score(y_val, y_predict))\n",
    "\n",
    "model_random_forest = RandomForestClassifier(n_estimators=20, max_depth=5, criterion='gini') #2\n",
    "model_random_forest.fit(x_train, y_train)\n",
    "y_predict = model_random_forest.predict(x_val)\n",
    "print(\"model - random_forest accuracy_valid:\", accuracy_score(y_val, y_predict))\n",
    "\n",
    "model_random_forest = RandomForestClassifier(n_estimators=200, max_depth=5, criterion='gini')# best \n",
    "model_random_forest.fit(x_train, y_train)\n",
    "y_predict = model_random_forest.predict(x_val)\n",
    "print(\"model - random_forest accuracy_valid:\", accuracy_score(y_val, y_predict))\n",
    "\n",
    "model_random_forest = RandomForestClassifier(n_estimators=200, max_depth=5, criterion='gini') # test\n",
    "model_random_forest.fit(x_train, y_train)\n",
    "y_predict = model_random_forest.predict(x_test)\n",
    "print(\"model - random_forest accuracy_test:\", accuracy_score(y_test, y_predict))"
   ]
  },
  {
   "cell_type": "code",
   "execution_count": 128,
   "metadata": {},
   "outputs": [
    {
     "name": "stdout",
     "output_type": "stream",
     "text": [
      "[22:46:56] WARNING: C:/Users/Administrator/workspace/xgboost-win64_release_1.5.0/src/learner.cc:576: \n",
      "Parameters: { \"criterion\" } might not be used.\n",
      "\n",
      "  This could be a false alarm, with some parameters getting used by language bindings but\n",
      "  then being mistakenly passed down to XGBoost core, or some parameter actually being used\n",
      "  but getting flagged wrongly here. Please open an issue if you find any such cases.\n",
      "\n",
      "\n",
      "[22:46:56] WARNING: C:/Users/Administrator/workspace/xgboost-win64_release_1.5.0/src/learner.cc:1115: Starting in XGBoost 1.3.0, the default evaluation metric used with the objective 'binary:logistic' was changed from 'error' to 'logloss'. Explicitly set eval_metric if you'd like to restore the old behavior.\n",
      "model - XGBoost accuracy_valid: 0.8041958041958042\n",
      "[22:46:56] WARNING: C:/Users/Administrator/workspace/xgboost-win64_release_1.5.0/src/learner.cc:576: \n",
      "Parameters: { \"criterion\" } might not be used.\n",
      "\n",
      "  This could be a false alarm, with some parameters getting used by language bindings but\n",
      "  then being mistakenly passed down to XGBoost core, or some parameter actually being used\n",
      "  but getting flagged wrongly here. Please open an issue if you find any such cases.\n",
      "\n",
      "\n",
      "[22:46:56] WARNING: C:/Users/Administrator/workspace/xgboost-win64_release_1.5.0/src/learner.cc:1115: Starting in XGBoost 1.3.0, the default evaluation metric used with the objective 'binary:logistic' was changed from 'error' to 'logloss'. Explicitly set eval_metric if you'd like to restore the old behavior.\n",
      "model - XGBoost accuracy_valid: 0.8181818181818182\n",
      "[22:46:56] WARNING: C:/Users/Administrator/workspace/xgboost-win64_release_1.5.0/src/learner.cc:576: \n",
      "Parameters: { \"criterion\" } might not be used.\n",
      "\n",
      "  This could be a false alarm, with some parameters getting used by language bindings but\n",
      "  then being mistakenly passed down to XGBoost core, or some parameter actually being used\n",
      "  but getting flagged wrongly here. Please open an issue if you find any such cases.\n",
      "\n",
      "\n",
      "[22:46:56] WARNING: C:/Users/Administrator/workspace/xgboost-win64_release_1.5.0/src/learner.cc:1115: Starting in XGBoost 1.3.0, the default evaluation metric used with the objective 'binary:logistic' was changed from 'error' to 'logloss'. Explicitly set eval_metric if you'd like to restore the old behavior.\n",
      "model - XGBoost accuracy_test: 0.776536312849162\n"
     ]
    },
    {
     "name": "stderr",
     "output_type": "stream",
     "text": [
      "C:\\Users\\gnome\\mambaforge\\lib\\site-packages\\xgboost\\sklearn.py:1224: UserWarning: The use of label encoder in XGBClassifier is deprecated and will be removed in a future release. To remove this warning, do the following: 1) Pass option use_label_encoder=False when constructing XGBClassifier object; and 2) Encode your labels (y) as integers starting with 0, i.e. 0, 1, 2, ..., [num_class - 1].\n",
      "  warnings.warn(label_encoder_deprecation_msg, UserWarning)\n",
      "C:\\Users\\gnome\\mambaforge\\lib\\site-packages\\xgboost\\sklearn.py:1224: UserWarning: The use of label encoder in XGBClassifier is deprecated and will be removed in a future release. To remove this warning, do the following: 1) Pass option use_label_encoder=False when constructing XGBClassifier object; and 2) Encode your labels (y) as integers starting with 0, i.e. 0, 1, 2, ..., [num_class - 1].\n",
      "  warnings.warn(label_encoder_deprecation_msg, UserWarning)\n",
      "C:\\Users\\gnome\\mambaforge\\lib\\site-packages\\xgboost\\sklearn.py:1224: UserWarning: The use of label encoder in XGBClassifier is deprecated and will be removed in a future release. To remove this warning, do the following: 1) Pass option use_label_encoder=False when constructing XGBClassifier object; and 2) Encode your labels (y) as integers starting with 0, i.e. 0, 1, 2, ..., [num_class - 1].\n",
      "  warnings.warn(label_encoder_deprecation_msg, UserWarning)\n"
     ]
    }
   ],
   "source": [
    "#    XGBoost\n",
    "from xgboost import XGBClassifier\n",
    "\n",
    "model_XGBoost = XGBClassifier(n_estimators=20, max_depth=4, criterion='entropy') #1\n",
    "model_XGBoost.fit(x_train, y_train)\n",
    "y_predict = model_XGBoost.predict(x_val)\n",
    "print(\"model - XGBoost accuracy_valid:\", accuracy_score(y_val, y_predict))\n",
    "\n",
    "model_XGBoost = XGBClassifier(n_estimators=10, max_depth=2, criterion='gini')# best \n",
    "model_XGBoost.fit(x_train, y_train)\n",
    "y_predict = model_XGBoost.predict(x_val)\n",
    "print(\"model - XGBoost accuracy_valid:\", accuracy_score(y_val, y_predict))   \n",
    "\n",
    "model_XGBoost = XGBClassifier(n_estimators=10, max_depth=2, criterion='gini') # test\n",
    "model_XGBoost.fit(x_train, y_train)\n",
    "y_predict = model_XGBoost.predict(x_test)\n",
    "print(\"model - XGBoost accuracy_test:\", accuracy_score(y_test, y_predict))"
   ]
  },
  {
   "cell_type": "code",
   "execution_count": 129,
   "metadata": {},
   "outputs": [
    {
     "name": "stdout",
     "output_type": "stream",
     "text": [
      "model - LogisticRegression accuracy_valid: 0.7482517482517482\n",
      "model - LogisticRegression accuracy_valid: 0.7902097902097902\n",
      "model - LogisticRegression accuracy_valid: 0.7832167832167832\n",
      "model - LogisticRegression accuracy_valid: 0.7902097902097902\n",
      "model - LogisticRegression accuracy_valid: 0.7902097902097902\n",
      "model - LogisticRegression accuracy_test: 0.7932960893854749\n"
     ]
    },
    {
     "name": "stderr",
     "output_type": "stream",
     "text": [
      "C:\\Users\\gnome\\mambaforge\\lib\\site-packages\\sklearn\\linear_model\\_logistic.py:1483: UserWarning: Setting penalty='none' will ignore the C and l1_ratio parameters\n",
      "  warnings.warn(\n",
      "C:\\Users\\gnome\\mambaforge\\lib\\site-packages\\sklearn\\linear_model\\_sag.py:352: ConvergenceWarning: The max_iter was reached which means the coef_ did not converge\n",
      "  warnings.warn(\n",
      "C:\\Users\\gnome\\mambaforge\\lib\\site-packages\\sklearn\\linear_model\\_logistic.py:1483: UserWarning: Setting penalty='none' will ignore the C and l1_ratio parameters\n",
      "  warnings.warn(\n"
     ]
    }
   ],
   "source": [
    "#    Logistic Regression\n",
    "from sklearn.linear_model import LogisticRegression\n",
    "\n",
    "model_LogisticRegression = LogisticRegression(penalty='l2',C=0.1, solver='lbfgs') #1\n",
    "model_LogisticRegression.fit(x_train, y_train)\n",
    "y_predict = model_LogisticRegression.predict(x_val)\n",
    "print(\"model - LogisticRegression accuracy_valid:\", accuracy_score(y_val, y_predict))\n",
    "\n",
    "model_LogisticRegression = LogisticRegression(penalty='none',C=0.1, solver='lbfgs')# best\n",
    "model_LogisticRegression.fit(x_train, y_train)\n",
    "y_predict = model_LogisticRegression.predict(x_val)\n",
    "print(\"model - LogisticRegression accuracy_valid:\", accuracy_score(y_val, y_predict))\n",
    "\n",
    "model_LogisticRegression = LogisticRegression(penalty='l2',C=1, solver='lbfgs') #3\n",
    "model_LogisticRegression.fit(x_train, y_train)\n",
    "y_predict = model_LogisticRegression.predict(x_val)\n",
    "print(\"model - LogisticRegression accuracy_valid:\", accuracy_score(y_val, y_predict))\n",
    "\n",
    "model_LogisticRegression = LogisticRegression(penalty='none',C=1, solver='lbfgs') #4\n",
    "model_LogisticRegression.fit(x_train, y_train)\n",
    "y_predict = model_LogisticRegression.predict(x_val)\n",
    "print(\"model - LogisticRegression accuracy_valid:\", accuracy_score(y_val, y_predict))\n",
    "\n",
    "model_LogisticRegression = LogisticRegression(penalty='none',C=1, solver='saga') #5\n",
    "model_LogisticRegression.fit(x_train, y_train)\n",
    "y_predict = model_LogisticRegression.predict(x_val)\n",
    "print(\"model - LogisticRegression accuracy_valid:\", accuracy_score(y_val, y_predict))\n",
    "\n",
    "model_LogisticRegression = LogisticRegression(penalty='none',C=0.1, solver='lbfgs') # test\n",
    "model_LogisticRegression.fit(x_train, y_train)\n",
    "y_predict = model_LogisticRegression.predict(x_test)\n",
    "print(\"model - LogisticRegression accuracy_test:\", accuracy_score(y_test, y_predict))"
   ]
  },
  {
   "cell_type": "code",
   "execution_count": 130,
   "metadata": {},
   "outputs": [
    {
     "name": "stdout",
     "output_type": "stream",
     "text": [
      "model - KNN accuracy_valid: 0.8041958041958042\n",
      "model - KNN accuracy_valid: 0.7972027972027972\n",
      "model - KNN accuracy_valid: 0.8111888111888111\n",
      "model - KNN accuracy_valid: 0.8111888111888111\n",
      "model - KNN accuracy_test: 0.770949720670391\n"
     ]
    }
   ],
   "source": [
    "#    KNN\n",
    "from sklearn.neighbors import KNeighborsClassifier\n",
    "\n",
    "model_KNN = KNeighborsClassifier() # 1 (default n_neighbors = 5, weights='uniform')\n",
    "model_KNN.fit(x_train, y_train)\n",
    "y_predict = model_KNN.predict(x_val)\n",
    "print(\"model - KNN accuracy_valid:\", accuracy_score(y_val, y_predict))\n",
    "\n",
    "model_KNN = KNeighborsClassifier(weights='distance') #2\n",
    "model_KNN.fit(x_train, y_train)\n",
    "y_predict = model_KNN.predict(x_val)\n",
    "print(\"model - KNN accuracy_valid:\", accuracy_score(y_val, y_predict))\n",
    "\n",
    "model_KNN = KNeighborsClassifier(n_neighbors = 10, weights='distance')# best\n",
    "model_KNN.fit(x_train, y_train)\n",
    "y_predict = model_KNN.predict(x_val)\n",
    "print(\"model - KNN accuracy_valid:\", accuracy_score(y_val, y_predict))\n",
    "\n",
    "model_KNN = KNeighborsClassifier(n_neighbors = 10, weights='uniform') #3\n",
    "model_KNN.fit(x_train, y_train)\n",
    "y_predict = model_KNN.predict(x_val)\n",
    "print(\"model - KNN accuracy_valid:\", accuracy_score(y_val, y_predict))\n",
    "\n",
    "model_KNN = KNeighborsClassifier(n_neighbors = 10, weights='distance') # test\n",
    "model_KNN.fit(x_train, y_train)\n",
    "y_predict = model_KNN.predict(x_test)\n",
    "print(\"model - KNN accuracy_test:\", accuracy_score(y_test, y_predict))"
   ]
  },
  {
   "cell_type": "code",
   "execution_count": 131,
   "metadata": {},
   "outputs": [
    {
     "data": {
      "image/png": "[encoded data removed]",
      "text/plain": [
       "<Figure size 432x288 with 1 Axes>"
      ]
     },
     "metadata": {
      "needs_background": "light"
     },
     "output_type": "display_data"
    }
   ],
   "source": [
    "# 2. С помощью RandomForest выберите 2, 4, 8 самых важных признаков и проверьте точность моделей только на этих признаках.  \n",
    "\n",
    "#    Random Forest\n",
    "from sklearn.ensemble import RandomForestClassifier\n",
    "import numpy as np\n",
    "import matplotlib.pyplot as plt\n",
    "\n",
    "model_random_forest = RandomForestClassifier(n_estimators=20, max_depth=4, criterion='entropy')\n",
    "model_random_forest.fit(x_val, y_val)\n",
    "y_predict = model_random_forest.predict(x_test)\n",
    "\n",
    "importances = model_random_forest.feature_importances_ # (Gini impurity) Чем меньше загрязнение, тем важнее признак?\n",
    "features = X_train.columns\n",
    "# Добавление сортировки по важности\n",
    "indices = np.argsort(importances) \n",
    "\n",
    "plt.title('Важность признаков')\n",
    "plt.barh(range(len(indices)), importances[indices])\n",
    "plt.yticks(range(len(indices)), features[indices])\n",
    "plt.xlabel('Относительная важность')\n",
    "plt.show()"
   ]
  },
  {
   "cell_type": "code",
   "execution_count": 132,
   "metadata": {},
   "outputs": [],
   "source": [
    "# 2 самых важных признака\n",
    "\n",
    "two_if = features[indices][-2:]\n",
    "X_train_two_if = X_train[two_if]\n",
    "X_test_two_if = X_test[two_if]\n",
    "X_val_two_if = X_val[two_if]\n",
    "\n",
    "scaler = MinMaxScaler() # (x - x.min()) / (x.max() - x.min())\n",
    "X_train_two_if = scaler.fit_transform(X_train_two_if)\n",
    "X_test_two_if = scaler.transform(X_test_two_if)\n",
    "X_val_two_if = scaler.transform(X_val_two_if)"
   ]
  },
  {
   "cell_type": "code",
   "execution_count": 133,
   "metadata": {},
   "outputs": [
    {
     "name": "stdout",
     "output_type": "stream",
     "text": [
      "model - random_forest accuracy_test: 0.7932960893854749\n"
     ]
    }
   ],
   "source": [
    "#    Random Forest\n",
    "\n",
    "model_random_forest = RandomForestClassifier(n_estimators=200, max_depth=5, criterion='gini') # test\n",
    "model_random_forest.fit(X_train_two_if, y_train)\n",
    "y_predict = model_random_forest.predict(X_test_two_if)\n",
    "print(\"model - random_forest accuracy_test:\", accuracy_score(y_test, y_predict))"
   ]
  },
  {
   "cell_type": "code",
   "execution_count": 134,
   "metadata": {},
   "outputs": [
    {
     "name": "stdout",
     "output_type": "stream",
     "text": [
      "[22:48:26] WARNING: C:/Users/Administrator/workspace/xgboost-win64_release_1.5.0/src/learner.cc:576: \n",
      "Parameters: { \"criterion\" } might not be used.\n",
      "\n",
      "  This could be a false alarm, with some parameters getting used by language bindings but\n",
      "  then being mistakenly passed down to XGBoost core, or some parameter actually being used\n",
      "  but getting flagged wrongly here. Please open an issue if you find any such cases.\n",
      "\n",
      "\n",
      "[22:48:26] WARNING: C:/Users/Administrator/workspace/xgboost-win64_release_1.5.0/src/learner.cc:1115: Starting in XGBoost 1.3.0, the default evaluation metric used with the objective 'binary:logistic' was changed from 'error' to 'logloss'. Explicitly set eval_metric if you'd like to restore the old behavior.\n",
      "model - XGBoost accuracy_test: 0.776536312849162\n"
     ]
    },
    {
     "name": "stderr",
     "output_type": "stream",
     "text": [
      "C:\\Users\\gnome\\mambaforge\\lib\\site-packages\\xgboost\\sklearn.py:1224: UserWarning: The use of label encoder in XGBClassifier is deprecated and will be removed in a future release. To remove this warning, do the following: 1) Pass option use_label_encoder=False when constructing XGBClassifier object; and 2) Encode your labels (y) as integers starting with 0, i.e. 0, 1, 2, ..., [num_class - 1].\n",
      "  warnings.warn(label_encoder_deprecation_msg, UserWarning)\n"
     ]
    }
   ],
   "source": [
    "#    XGBoost\n",
    "model_XGBoost = XGBClassifier(n_estimators=10, max_depth=2, criterion='gini') # test\n",
    "model_XGBoost.fit(X_train_two_if, y_train)\n",
    "y_predict = model_XGBoost.predict(X_test_two_if)\n",
    "print(\"model - XGBoost accuracy_test:\", accuracy_score(y_test, y_predict))"
   ]
  },
  {
   "cell_type": "code",
   "execution_count": 135,
   "metadata": {},
   "outputs": [
    {
     "name": "stdout",
     "output_type": "stream",
     "text": [
      "model - LogisticRegression accuracy_test: 0.7821229050279329\n"
     ]
    },
    {
     "name": "stderr",
     "output_type": "stream",
     "text": [
      "C:\\Users\\gnome\\mambaforge\\lib\\site-packages\\sklearn\\linear_model\\_logistic.py:1483: UserWarning: Setting penalty='none' will ignore the C and l1_ratio parameters\n",
      "  warnings.warn(\n"
     ]
    }
   ],
   "source": [
    "#    Logistic Regression\n",
    "model_LogisticRegression = LogisticRegression(penalty='none',C=0.1, solver='lbfgs') # test\n",
    "model_LogisticRegression.fit(X_train_two_if, y_train)\n",
    "y_predict = model_LogisticRegression.predict(X_test_two_if)\n",
    "print(\"model - LogisticRegression accuracy_test:\", accuracy_score(y_test, y_predict))"
   ]
  },
  {
   "cell_type": "code",
   "execution_count": 136,
   "metadata": {},
   "outputs": [
    {
     "name": "stdout",
     "output_type": "stream",
     "text": [
      "model - KNN accuracy_test: 0.8435754189944135\n"
     ]
    }
   ],
   "source": [
    "#    KNN\n",
    "model_KNN = KNeighborsClassifier(n_neighbors = 10, weights='distance') # test\n",
    "model_KNN.fit(X_train_two_if, y_train)\n",
    "y_predict = model_KNN.predict(X_test_two_if)\n",
    "print(\"model - KNN accuracy_test:\", accuracy_score(y_test, y_predict))"
   ]
  },
  {
   "cell_type": "code",
   "execution_count": 137,
   "metadata": {},
   "outputs": [],
   "source": [
    "# 4 самых важных признака\n",
    "four_if = features[indices][-4:]\n",
    "X_train_four_if = X_train[four_if]\n",
    "X_test_four_if = X_test[four_if]\n",
    "X_val_four_if = X_val[four_if]\n",
    "\n",
    "scaler = MinMaxScaler() # (x - x.min()) / (x.max() - x.min())\n",
    "X_train_four_if = scaler.fit_transform(X_train_four_if)\n",
    "X_test_four_if = scaler.transform(X_test_four_if)\n",
    "X_val_four_if = scaler.transform(X_val_four_if)"
   ]
  },
  {
   "cell_type": "code",
   "execution_count": 138,
   "metadata": {},
   "outputs": [
    {
     "name": "stdout",
     "output_type": "stream",
     "text": [
      "model - random_forest accuracy_test: 0.8100558659217877\n"
     ]
    }
   ],
   "source": [
    "#    Random Forest\n",
    "\n",
    "model_random_forest = RandomForestClassifier(n_estimators=200, max_depth=5, criterion='gini') # test\n",
    "model_random_forest.fit(X_train_four_if, y_train)\n",
    "y_predict = model_random_forest.predict(X_test_four_if)\n",
    "print(\"model - random_forest accuracy_test:\", accuracy_score(y_test, y_predict))"
   ]
  },
  {
   "cell_type": "code",
   "execution_count": 139,
   "metadata": {},
   "outputs": [
    {
     "name": "stdout",
     "output_type": "stream",
     "text": [
      "[22:52:26] WARNING: C:/Users/Administrator/workspace/xgboost-win64_release_1.5.0/src/learner.cc:576: \n",
      "Parameters: { \"criterion\" } might not be used.\n",
      "\n",
      "  This could be a false alarm, with some parameters getting used by language bindings but\n",
      "  then being mistakenly passed down to XGBoost core, or some parameter actually being used\n",
      "  but getting flagged wrongly here. Please open an issue if you find any such cases.\n",
      "\n",
      "\n",
      "[22:52:26] WARNING: C:/Users/Administrator/workspace/xgboost-win64_release_1.5.0/src/learner.cc:1115: Starting in XGBoost 1.3.0, the default evaluation metric used with the objective 'binary:logistic' was changed from 'error' to 'logloss'. Explicitly set eval_metric if you'd like to restore the old behavior.\n",
      "model - XGBoost accuracy_test: 0.7932960893854749\n"
     ]
    },
    {
     "name": "stderr",
     "output_type": "stream",
     "text": [
      "C:\\Users\\gnome\\mambaforge\\lib\\site-packages\\xgboost\\sklearn.py:1224: UserWarning: The use of label encoder in XGBClassifier is deprecated and will be removed in a future release. To remove this warning, do the following: 1) Pass option use_label_encoder=False when constructing XGBClassifier object; and 2) Encode your labels (y) as integers starting with 0, i.e. 0, 1, 2, ..., [num_class - 1].\n",
      "  warnings.warn(label_encoder_deprecation_msg, UserWarning)\n"
     ]
    }
   ],
   "source": [
    "#    XGBoost\n",
    "model_XGBoost = XGBClassifier(n_estimators=10, max_depth=2, criterion='gini') # test\n",
    "model_XGBoost.fit(X_train_four_if, y_train)\n",
    "y_predict = model_XGBoost.predict(X_test_four_if)\n",
    "print(\"model - XGBoost accuracy_test:\", accuracy_score(y_test, y_predict))"
   ]
  },
  {
   "cell_type": "code",
   "execution_count": 140,
   "metadata": {},
   "outputs": [
    {
     "name": "stdout",
     "output_type": "stream",
     "text": [
      "model - LogisticRegression accuracy_test: 0.7821229050279329\n"
     ]
    },
    {
     "name": "stderr",
     "output_type": "stream",
     "text": [
      "C:\\Users\\gnome\\mambaforge\\lib\\site-packages\\sklearn\\linear_model\\_logistic.py:1483: UserWarning: Setting penalty='none' will ignore the C and l1_ratio parameters\n",
      "  warnings.warn(\n"
     ]
    }
   ],
   "source": [
    "#    Logistic Regression\n",
    "model_LogisticRegression = LogisticRegression(penalty='none',C=0.1, solver='lbfgs') # test\n",
    "model_LogisticRegression.fit(X_train_four_if, y_train)\n",
    "y_predict = model_LogisticRegression.predict(X_test_four_if)\n",
    "print(\"model - LogisticRegression accuracy_test:\", accuracy_score(y_test, y_predict))"
   ]
  },
  {
   "cell_type": "code",
   "execution_count": 141,
   "metadata": {},
   "outputs": [
    {
     "name": "stdout",
     "output_type": "stream",
     "text": [
      "model - KNN accuracy_test: 0.7821229050279329\n"
     ]
    }
   ],
   "source": [
    "#    KNN\n",
    "model_KNN = KNeighborsClassifier(n_neighbors = 10, weights='distance') # test\n",
    "model_KNN.fit(X_train_four_if, y_train)\n",
    "y_predict = model_KNN.predict(X_test_four_if)\n",
    "print(\"model - KNN accuracy_test:\", accuracy_score(y_test, y_predict))"
   ]
  },
  {
   "cell_type": "code",
   "execution_count": 142,
   "metadata": {},
   "outputs": [],
   "source": [
    "# 8 самых важных признаков\n",
    "eight_if = features[indices][-4:]\n",
    "X_train_eight_if = X_train[eight_if]\n",
    "X_test_eight_if = X_test[eight_if]\n",
    "X_val_eight_if = X_val[eight_if]\n",
    "\n",
    "scaler = MinMaxScaler() # (x - x.min()) / (x.max() - x.min())\n",
    "X_train_eight_if = scaler.fit_transform(X_train_eight_if)\n",
    "X_test_eight_if = scaler.transform(X_test_eight_if)\n",
    "X_val_eight_if = scaler.transform(X_val_eight_if)"
   ]
  },
  {
   "cell_type": "code",
   "execution_count": 143,
   "metadata": {},
   "outputs": [
    {
     "name": "stdout",
     "output_type": "stream",
     "text": [
      "model - random_forest accuracy_test: 0.8100558659217877\n"
     ]
    }
   ],
   "source": [
    "#    Random Forest\n",
    "\n",
    "model_random_forest = RandomForestClassifier(n_estimators=200, max_depth=5, criterion='gini') # test\n",
    "model_random_forest.fit(X_train_eight_if, y_train)\n",
    "y_predict = model_random_forest.predict(X_test_eight_if)\n",
    "print(\"model - random_forest accuracy_test:\", accuracy_score(y_test, y_predict))"
   ]
  },
  {
   "cell_type": "code",
   "execution_count": 144,
   "metadata": {},
   "outputs": [
    {
     "name": "stdout",
     "output_type": "stream",
     "text": [
      "[22:54:35] WARNING: C:/Users/Administrator/workspace/xgboost-win64_release_1.5.0/src/learner.cc:576: \n",
      "Parameters: { \"criterion\" } might not be used.\n",
      "\n",
      "  This could be a false alarm, with some parameters getting used by language bindings but\n",
      "  then being mistakenly passed down to XGBoost core, or some parameter actually being used\n",
      "  but getting flagged wrongly here. Please open an issue if you find any such cases.\n",
      "\n",
      "\n",
      "[22:54:35] WARNING: C:/Users/Administrator/workspace/xgboost-win64_release_1.5.0/src/learner.cc:1115: Starting in XGBoost 1.3.0, the default evaluation metric used with the objective 'binary:logistic' was changed from 'error' to 'logloss'. Explicitly set eval_metric if you'd like to restore the old behavior.\n",
      "model - XGBoost accuracy_test: 0.7932960893854749\n"
     ]
    },
    {
     "name": "stderr",
     "output_type": "stream",
     "text": [
      "C:\\Users\\gnome\\mambaforge\\lib\\site-packages\\xgboost\\sklearn.py:1224: UserWarning: The use of label encoder in XGBClassifier is deprecated and will be removed in a future release. To remove this warning, do the following: 1) Pass option use_label_encoder=False when constructing XGBClassifier object; and 2) Encode your labels (y) as integers starting with 0, i.e. 0, 1, 2, ..., [num_class - 1].\n",
      "  warnings.warn(label_encoder_deprecation_msg, UserWarning)\n"
     ]
    }
   ],
   "source": [
    "#    XGBoost\n",
    "model_XGBoost = XGBClassifier(n_estimators=10, max_depth=2, criterion='gini') # test\n",
    "model_XGBoost.fit(X_train_eight_if, y_train)\n",
    "y_predict = model_XGBoost.predict(X_test_eight_if)\n",
    "print(\"model - XGBoost accuracy_test:\", accuracy_score(y_test, y_predict))"
   ]
  },
  {
   "cell_type": "code",
   "execution_count": 145,
   "metadata": {},
   "outputs": [
    {
     "name": "stdout",
     "output_type": "stream",
     "text": [
      "model - LogisticRegression accuracy_test: 0.7821229050279329\n"
     ]
    },
    {
     "name": "stderr",
     "output_type": "stream",
     "text": [
      "C:\\Users\\gnome\\mambaforge\\lib\\site-packages\\sklearn\\linear_model\\_logistic.py:1483: UserWarning: Setting penalty='none' will ignore the C and l1_ratio parameters\n",
      "  warnings.warn(\n"
     ]
    }
   ],
   "source": [
    "#    Logistic Regression\n",
    "model_LogisticRegression = LogisticRegression(penalty='none',C=0.1, solver='lbfgs') # test\n",
    "model_LogisticRegression.fit(X_train_eight_if, y_train)\n",
    "y_predict = model_LogisticRegression.predict(X_test_eight_if)\n",
    "print(\"model - LogisticRegression accuracy_test:\", accuracy_score(y_test, y_predict))"
   ]
  },
  {
   "cell_type": "code",
   "execution_count": 146,
   "metadata": {},
   "outputs": [
    {
     "name": "stdout",
     "output_type": "stream",
     "text": [
      "model - KNN accuracy_test: 0.7821229050279329\n"
     ]
    }
   ],
   "source": [
    "#    KNN\n",
    "model_KNN = KNeighborsClassifier(n_neighbors = 10, weights='distance') # test\n",
    "model_KNN.fit(X_train_eight_if, y_train)\n",
    "y_predict = model_KNN.predict(X_test_eight_if)\n",
    "print(\"model - KNN accuracy_test:\", accuracy_score(y_test, y_predict))"
   ]
  },
  {
   "cell_type": "code",
   "execution_count": 8,
   "metadata": {},
   "outputs": [
    {
     "data": {
      "image/png": "[encoded data removed]",
      "text/plain": [
       "<Figure size 432x288 with 1 Axes>"
      ]
     },
     "metadata": {
      "needs_background": "light"
     },
     "output_type": "display_data"
    },
    {
     "data": {
      "image/png": "[encoded data removed]",
      "text/plain": [
       "<Figure size 432x288 with 1 Axes>"
      ]
     },
     "metadata": {
      "needs_background": "light"
     },
     "output_type": "display_data"
    }
   ],
   "source": [
    "# 3. Используя координаты скважин из файла wells_info.csv  (LatWGS84 - Широта на поверхности; LonWGS84 - Долгота на поверхности)\n",
    "# разделите их на кластера с помощью любых 4 методов и отобразите разделение. \n",
    "# Параметры подбираются самостоятельно.\n",
    "import matplotlib.pyplot as plt\n",
    "import pandas as pd\n",
    "wells_info_df = pd.read_csv('data/wells_info.csv')\n",
    "data = wells_info_df[['LatWGS84','LonWGS84']]\n",
    "\n",
    "plt.scatter(data['LatWGS84'], data['LonWGS84']) # 4 or 5 clusters\n",
    "plt.show()\n",
    "\n",
    "# k-means                                                     \n",
    "from sklearn.cluster import KMeans\n",
    "\n",
    "model = KMeans(n_clusters=5)\n",
    "clusters = model.fit_predict(data)\n",
    "plt.scatter(data['LatWGS84'], data['LonWGS84'], c=clusters)\n",
    "plt.show()"
   ]
  },
  {
   "cell_type": "code",
   "execution_count": 15,
   "metadata": {},
   "outputs": [
    {
     "data": {
      "image/png": "[encoded data removed]",
      "text/plain": [
       "<Figure size 432x288 with 1 Axes>"
      ]
     },
     "metadata": {
      "needs_background": "light"
     },
     "output_type": "display_data"
    },
    {
     "data": {
      "image/png": "[encoded data removed]",
      "text/plain": [
       "<Figure size 432x288 with 1 Axes>"
      ]
     },
     "metadata": {
      "needs_background": "light"
     },
     "output_type": "display_data"
    }
   ],
   "source": [
    "# DBSCAN (density ...)                                                  \n",
    "plt.scatter(data['LatWGS84'], data['LonWGS84']) # 4 or 5 clusters\n",
    "plt.show()\n",
    "\n",
    "from sklearn.cluster import DBSCAN\n",
    "\n",
    "model = DBSCAN(eps=1, min_samples=1)\n",
    "clusters = model.fit_predict(data)\n",
    "\n",
    "plt.scatter(data['LatWGS84'], data['LonWGS84'], c=clusters)\n",
    "plt.show()"
   ]
  },
  {
   "cell_type": "code",
   "execution_count": 19,
   "metadata": {},
   "outputs": [
    {
     "data": {
      "image/png": "[encoded data removed]",
      "text/plain": [
       "<Figure size 432x288 with 1 Axes>"
      ]
     },
     "metadata": {
      "needs_background": "light"
     },
     "output_type": "display_data"
    },
    {
     "data": {
      "text/plain": [
       "<matplotlib.collections.PathCollection at 0x251bc6fef70>"
      ]
     },
     "execution_count": 19,
     "metadata": {},
     "output_type": "execute_result"
    },
    {
     "data": {
      "image/png": "[encoded data removed]",
      "text/plain": [
       "<Figure size 432x288 with 1 Axes>"
      ]
     },
     "metadata": {
      "needs_background": "light"
     },
     "output_type": "display_data"
    }
   ],
   "source": [
    "from sklearn.cluster import MeanShift                                 # Как я поняла, он похож на метод k-means, только тут нам не надо знать заранее\n",
    "plt.scatter(data['LatWGS84'], data['LonWGS84']) # 4 or 5 clusters     сколько кластеров есть, он сам их ищет.            \n",
    "plt.show()\n",
    "model = MeanShift()\n",
    "clusters = model.fit_predict(data)\n",
    "plt.scatter(data['LatWGS84'],data['LonWGS84'], c=clusters)"
   ]
  },
  {
   "cell_type": "code",
   "execution_count": 11,
   "metadata": {},
   "outputs": [
    {
     "name": "stderr",
     "output_type": "stream",
     "text": [
      "C:\\Users\\gnome\\mambaforge\\lib\\site-packages\\sklearn\\manifold\\_t_sne.py:780: FutureWarning: The default initialization in TSNE will change from 'random' to 'pca' in 1.2.\n",
      "  warnings.warn(\n",
      "C:\\Users\\gnome\\mambaforge\\lib\\site-packages\\sklearn\\manifold\\_t_sne.py:790: FutureWarning: The default learning rate in TSNE will change from 200.0 to 'auto' in 1.2.\n",
      "  warnings.warn(\n"
     ]
    },
    {
     "data": {
      "text/html": [
       "<div>\n",
       "<style scoped>\n",
       "    .dataframe tbody tr th:only-of-type {\n",
       "        vertical-align: middle;\n",
       "    }\n",
       "\n",
       "    .dataframe tbody tr th {\n",
       "        vertical-align: top;\n",
       "    }\n",
       "\n",
       "    .dataframe thead th {\n",
       "        text-align: right;\n",
       "    }\n",
       "</style>\n",
       "<table border=\"1\" class=\"dataframe\">\n",
       "  <thead>\n",
       "    <tr style=\"text-align: right;\">\n",
       "      <th></th>\n",
       "      <th>BottomHoleLatitude</th>\n",
       "      <th>BottomHoleLongitude</th>\n",
       "      <th>LATERAL_LENGTH_BLEND</th>\n",
       "      <th>PROP_PER_FOOT</th>\n",
       "      <th>WATER_PER_FOOT</th>\n",
       "    </tr>\n",
       "  </thead>\n",
       "  <tbody>\n",
       "    <tr>\n",
       "      <th>0</th>\n",
       "      <td>39.68445</td>\n",
       "      <td>-104.60557</td>\n",
       "      <td>9005.0</td>\n",
       "      <td>994.6866</td>\n",
       "      <td>591.8004</td>\n",
       "    </tr>\n",
       "    <tr>\n",
       "      <th>1</th>\n",
       "      <td>40.49692</td>\n",
       "      <td>-104.77859</td>\n",
       "      <td>4195.0</td>\n",
       "      <td>991.5857</td>\n",
       "      <td>628.6321</td>\n",
       "    </tr>\n",
       "    <tr>\n",
       "      <th>2</th>\n",
       "      <td>40.34780</td>\n",
       "      <td>-104.36863</td>\n",
       "      <td>4273.0</td>\n",
       "      <td>1000.2760</td>\n",
       "      <td>564.4841</td>\n",
       "    </tr>\n",
       "    <tr>\n",
       "      <th>3</th>\n",
       "      <td>40.17445</td>\n",
       "      <td>-104.52932</td>\n",
       "      <td>7078.0</td>\n",
       "      <td>973.4437</td>\n",
       "      <td>824.0020</td>\n",
       "    </tr>\n",
       "    <tr>\n",
       "      <th>4</th>\n",
       "      <td>40.49558</td>\n",
       "      <td>-104.86757</td>\n",
       "      <td>3211.0</td>\n",
       "      <td>783.5919</td>\n",
       "      <td>603.1414</td>\n",
       "    </tr>\n",
       "  </tbody>\n",
       "</table>\n",
       "</div>"
      ],
      "text/plain": [
       "   BottomHoleLatitude  BottomHoleLongitude  LATERAL_LENGTH_BLEND  \\\n",
       "0            39.68445           -104.60557                9005.0   \n",
       "1            40.49692           -104.77859                4195.0   \n",
       "2            40.34780           -104.36863                4273.0   \n",
       "3            40.17445           -104.52932                7078.0   \n",
       "4            40.49558           -104.86757                3211.0   \n",
       "\n",
       "   PROP_PER_FOOT  WATER_PER_FOOT  \n",
       "0       994.6866        591.8004  \n",
       "1       991.5857        628.6321  \n",
       "2      1000.2760        564.4841  \n",
       "3       973.4437        824.0020  \n",
       "4       783.5919        603.1414  "
      ]
     },
     "execution_count": 11,
     "metadata": {},
     "output_type": "execute_result"
    },
    {
     "data": {
      "image/png": "[encoded data removed]",
      "text/plain": [
       "<Figure size 432x288 with 1 Axes>"
      ]
     },
     "metadata": {
      "needs_background": "light"
     },
     "output_type": "display_data"
    }
   ],
   "source": [
    "# 4. Приведите отобранные в 6.1 задании признаки из файла              \n",
    "# wells_info_with_prod.csv в двумерное пространство. \n",
    "# Выделите цветом добычу с этой скважины.\n",
    "\n",
    "\n",
    "# from 6 lesson\n",
    "import pandas as pd\n",
    "\n",
    "wells_info_with_prod_df = pd.read_csv('data\\wells_info_with_prod.csv')\n",
    "x = wells_info_with_prod_df.drop(['API','Prod1Year', 'ProdAll','PermitDate', 'SpudDate',\n",
    "       'FirstProductionDate', 'operatorNameIHS', 'BasinName',\n",
    "       'StateName', 'CountyName', 'LatWGS84', 'LonWGS84', 'CompletionDate', 'formation'], axis=1)\n",
    "\n",
    "# formation = pd.get_dummies(x['formation'])\n",
    "# x = x.drop(columns = 'formation')\n",
    "# x = x.join(formation)\n",
    "from sklearn.preprocessing import StandardScaler\n",
    "scaler = StandardScaler() \n",
    "x = x._get_numeric_data()\n",
    "scaled_x = scaler.fit_transform(x)\n",
    "\n",
    "\n",
    "# t-SNE\n",
    "from sklearn.manifold import TSNE\n",
    "import numpy as np\n",
    "import matplotlib.pyplot as plt\n",
    "\n",
    "model = TSNE(n_components=2)\n",
    "squeezed = model.fit_transform(scaled_x)\n",
    "plt.scatter(squeezed[:,0], squeezed[:,1], c=np.linspace(0, 1, num=squeezed.shape[0]))\n",
    "x.head()"
   ]
  }
 ],
 "metadata": {
  "celltoolbar": "Slideshow",
  "kernelspec": {
   "display_name": "Python 3 (ipykernel)",
   "language": "python",
   "name": "python3"
  },
  "language_info": {
   "codemirror_mode": {
    "name": "ipython",
    "version": 3
   },
   "file_extension": ".py",
   "mimetype": "text/x-python",
   "name": "python",
   "nbconvert_exporter": "python",
   "pygments_lexer": "ipython3",
   "version": "3.9.6"
  }
 },
 "nbformat": 4,
 "nbformat_minor": 4
}

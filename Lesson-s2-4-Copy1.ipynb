{
 "cells": [
  {
   "cell_type": "code",
   "execution_count": 1,
   "id": "cfd67072",
   "metadata": {},
   "outputs": [
    {
     "name": "stdout",
     "output_type": "stream",
     "text": [
      "env: CUDA_VISIBLE_DEVICES=-1\n"
     ]
    }
   ],
   "source": [
    "%env CUDA_VISIBLE_DEVICES -1"
   ]
  },
  {
   "cell_type": "markdown",
   "id": "70155cf3",
   "metadata": {},
   "source": [
    "# Пример обучения свёрточной сети для задачи сегментации"
   ]
  },
  {
   "cell_type": "code",
   "execution_count": 2,
   "id": "b5bf7d8d",
   "metadata": {},
   "outputs": [],
   "source": [
    "import tensorflow as tf\n",
    "import tensorflow.keras as K\n",
    "import random\n",
    "from itertools import islice\n",
    "from pathlib import Path\n",
    "\n",
    "import cv2\n",
    "import matplotlib.pyplot as plt\n",
    "import numpy as np"
   ]
  },
  {
   "cell_type": "markdown",
   "id": "9f7d7dca",
   "metadata": {},
   "source": [
    "## Работа с данными"
   ]
  },
  {
   "cell_type": "markdown",
   "id": "1e4314b0",
   "metadata": {},
   "source": [
    "### Подгрузка данных датасета"
   ]
  },
  {
   "cell_type": "code",
   "execution_count": 3,
   "id": "e2a95917",
   "metadata": {},
   "outputs": [],
   "source": [
    "# Подключение Google диска (для Jupyter Collab)\n",
    "# from google.colab import drive\n",
    "# drive.mount('/content/drive')"
   ]
  },
  {
   "cell_type": "code",
   "execution_count": 4,
   "id": "42a052b5",
   "metadata": {},
   "outputs": [],
   "source": [
    "# Функция для получения списков изображений\n",
    "def get_masks_path(images_folder):\n",
    "    return [str(x) for x in Path(images_folder).glob('*.jpg')]"
   ]
  },
  {
   "cell_type": "code",
   "execution_count": 5,
   "id": "16109c54",
   "metadata": {},
   "outputs": [],
   "source": [
    "# Функция для получения контура пятен на изображении.\n",
    "def get_border(binary_image, border_width):\n",
    "    kernel = cv2.getStructuringElement(cv2.MORPH_RECT, (border_width, border_width))\n",
    "    return cv2.morphologyEx(binary_image, cv2.MORPH_GRADIENT, kernel)\n",
    "    # расширяем, потом сужаем, разница между ними - граница\n",
    "\n",
    "# Функция-генератор для чтения масок, применения аугментаций, нормирования, генерации входных данных сети.\n",
    "def create_data_generator(masks_paths, tgt_size, batch_size, border_size=2, aug_fn=None):\n",
    "    # Sort data\n",
    "    masks_paths = masks_paths[:]\n",
    "    random.shuffle(masks_paths)\n",
    "\n",
    "    batched_inputs = []\n",
    "    batched_labels = []\n",
    "\n",
    "    for mask_path in masks_paths:\n",
    "        mask = cv2.imread(mask_path, cv2.IMREAD_GRAYSCALE)  # shape [h, w]\n",
    "        if aug_fn is not None:\n",
    "            mask = aug_fn(mask)\n",
    "        \n",
    "        # Приводим к одному пространственному размеру\n",
    "        mask = cv2.resize(mask, (tgt_size, tgt_size))\n",
    "        \n",
    "        # Для данной задачи features и labels мы можем сгенерировать автоматически (учебный пример)\n",
    "        labels = mask / 255.  # Нормируем данные от 0 до 1\n",
    "        input_data = get_border(mask, border_size) / 255.  # После генерации контура мы также производим нормировку\n",
    "\n",
    "        # Приводим к виду, с которым работает свёрточная сеть (добавляем размерность каналов)\n",
    "        labels = labels[..., None]  # эквивалентно добавлении оси в конец при помощи expand_dims.\n",
    "        input_data = input_data[..., None]\n",
    "        \n",
    "        # Добавляем данные в батч\n",
    "        batched_inputs.append(input_data)\n",
    "        batched_labels.append(labels)\n",
    "            \n",
    "        if len(batched_inputs) == batch_size:\n",
    "            # Возвращаем два массива, представляющие собой батч для входа сети, \n",
    "            # и батч с метками (labels / ground truth (GT))\n",
    "            batched_inputs_array  = np.array(batched_inputs, np.float32)\n",
    "            batched_labels_aray = np.array(batched_labels, np.float32)\n",
    "            yield batched_inputs_array, batched_labels_aray\n",
    "            # Отчищаем данные батча\n",
    "            batched_inputs = []\n",
    "            batched_labels = []\n",
    "\n",
    "\n",
    "def train_generator(masks_paths, tgt_size, batch_size, epochs_num, border_size=2, aug_fn=None):\n",
    "    for _ in range(epochs_num):\n",
    "        data_generator = create_data_generator(masks_paths, tgt_size, batch_size, border_size, aug_fn)\n",
    "        yield from data_generator\n",
    "        \n",
    "        #for x in data_generator:\n",
    "            #yield x"
   ]
  },
  {
   "cell_type": "markdown",
   "id": "24f8b97e",
   "metadata": {},
   "source": [
    "### Аугментация данных"
   ]
  },
  {
   "cell_type": "code",
   "execution_count": 6,
   "id": "814b0e0b",
   "metadata": {},
   "outputs": [],
   "source": [
    "# Функции для аyгментирования данных\n",
    "\n",
    "def get_random_slice(size, min_size_frac=0.2):\n",
    "    # Вычисляем случайный одномерный срез\n",
    "    slice_size = random.randint(int(min_size_frac * size), size)\n",
    "    \n",
    "    slice_start = random.randint(0, size - slice_size)\n",
    "    slice_end = slice_start + slice_size\n",
    "    \n",
    "    return slice(slice_start, slice_end)\n",
    "\n",
    "\n",
    "def img_random_crop(img, min_size_frac=0.2):\n",
    "    h, w = img.shape[:2]\n",
    "    width_slice = get_random_slice(w, min_size_frac)\n",
    "    height_slice = get_random_slice(h, min_size_frac)\n",
    "    return img[height_slice, width_slice]\n",
    "\n",
    "\n",
    "def img_random_rotate(img):\n",
    "    h, w = img.shape[:2]\n",
    "    center = (w // 2, h // 2)\n",
    "    angle = random.randint(-180, 180)\n",
    "    rotation_matrix = cv2.getRotationMatrix2D(center, angle, 1)\n",
    "    return cv2.warpAffine(img, rotation_matrix, (h,w))\n",
    "\n",
    "\n",
    "def augmentation_function(img):\n",
    "    \n",
    "    # Случайное отражение\n",
    "    # (двойное отражение покрывается возможностью произвести поворот на 180 градусов)\n",
    "    if random.random() < 0.5:\n",
    "        img = cv2.flip(img, 1)\n",
    "\n",
    "    # Случайное отражение\n",
    "    if random.random() < 0.5:\n",
    "        img = img_random_rotate(img)\n",
    "\n",
    "    return img"
   ]
  },
  {
   "cell_type": "markdown",
   "id": "7217e875",
   "metadata": {},
   "source": [
    "### Пример данных"
   ]
  },
  {
   "cell_type": "code",
   "execution_count": 7,
   "id": "c54f6ec8",
   "metadata": {},
   "outputs": [],
   "source": [
    "imgs_paths = get_masks_path('nails_segmentation\\labels')"
   ]
  },
  {
   "cell_type": "code",
   "execution_count": 8,
   "id": "a95c8109",
   "metadata": {},
   "outputs": [
    {
     "data": {
      "image/png": "[encoded data removed]",
      "text/plain": [
       "<Figure size 432x288 with 2 Axes>"
      ]
     },
     "metadata": {
      "needs_background": "light"
     },
     "output_type": "display_data"
    },
    {
     "data": {
      "image/png": "[encoded data removed]",
      "text/plain": [
       "<Figure size 432x288 with 2 Axes>"
      ]
     },
     "metadata": {
      "needs_background": "light"
     },
     "output_type": "display_data"
    },
    {
     "data": {
      "image/png": "[encoded data removed]",
      "text/plain": [
       "<Figure size 432x288 with 2 Axes>"
      ]
     },
     "metadata": {
      "needs_background": "light"
     },
     "output_type": "display_data"
    },
    {
     "data": {
      "image/png": "[encoded data removed]",
      "text/plain": [
       "<Figure size 432x288 with 2 Axes>"
      ]
     },
     "metadata": {
      "needs_background": "light"
     },
     "output_type": "display_data"
    },
    {
     "data": {
      "image/png": "[encoded data removed]",
      "text/plain": [
       "<Figure size 432x288 with 2 Axes>"
      ]
     },
     "metadata": {
      "needs_background": "light"
     },
     "output_type": "display_data"
    }
   ],
   "source": [
    "random.seed(777)\n",
    "\n",
    "data_generator = create_data_generator(imgs_paths, 256, 1, border_size=3, aug_fn=augmentation_function)\n",
    "\n",
    "for batch_inputs, batch_labels in islice(data_generator, 5):\n",
    "    \n",
    "    plt.subplot(1, 2, 1)\n",
    "    plt.imshow(batch_inputs[0, ..., 0], cmap='gray')\n",
    "    plt.subplot(1, 2, 2)\n",
    "    plt.imshow(batch_labels[0, ..., 0], cmap='gray')\n",
    "    plt.show()"
   ]
  },
  {
   "cell_type": "markdown",
   "id": "c5c0573a",
   "metadata": {},
   "source": [
    "## Построение модели нейронной сети"
   ]
  },
  {
   "cell_type": "code",
   "execution_count": 9,
   "id": "89b309a7",
   "metadata": {},
   "outputs": [],
   "source": [
    "# Определение функции, которая будет использоваться для построения схожих участков нейронной сети.\n",
    "\n",
    "def conv2d_block(\n",
    "    inputs,\n",
    "    filters=16,\n",
    "    kernel_size=(3, 3),\n",
    "    activation=\"relu\",\n",
    "    kernel_initializer=\"he_normal\",\n",
    "    padding=\"same\",\n",
    "):\n",
    "    # Создаём элементарный блок, состоящий из двух свёрточных слоёв.\n",
    "    conv_layer_1 = K.layers.Conv2D(\n",
    "        filters,\n",
    "        kernel_size,\n",
    "        activation=activation,\n",
    "        kernel_initializer=kernel_initializer,\n",
    "        padding=padding,\n",
    "    )\n",
    "\n",
    "    conv_layer_2 = K.layers.Conv2D(\n",
    "        filters,\n",
    "        kernel_size,\n",
    "        activation=activation,\n",
    "        kernel_initializer=kernel_initializer,\n",
    "        padding=padding,\n",
    "    )\n",
    "\n",
    "    x = conv_layer_1(inputs)\n",
    "    x = conv_layer_2(x)\n",
    "    return x"
   ]
  },
  {
   "cell_type": "markdown",
   "id": "dc239b18",
   "metadata": {},
   "source": [
    "### Модель U-Net"
   ]
  },
  {
   "cell_type": "code",
   "execution_count": 10,
   "id": "64b18512",
   "metadata": {},
   "outputs": [],
   "source": [
    "def create_unet_model(\n",
    "    input_shape,\n",
    "    num_classes=1,\n",
    "    dropout=0.5, \n",
    "    filters=64,\n",
    "    num_layers=4,\n",
    "    output_activation='sigmoid',\n",
    "):\n",
    "    # Строи модель U-Net\n",
    "    inputs = K.Input(input_shape)\n",
    "    x = inputs   \n",
    "\n",
    "    # Создаём энкодер (Encoder)\n",
    "    down_layers = []\n",
    "    for l in range(num_layers):\n",
    "        x = conv2d_block(inputs=x, filters=filters)\n",
    "        down_layers.append(x)\n",
    "        x = K.layers.MaxPooling2D((2, 2), strides=2) (x)\n",
    "        filters = filters * 2  # Увеличиваем количество каналов на каждой стадии вдвое.\n",
    "\n",
    "    x = K.layers.Dropout(dropout)(x)\n",
    "    x = conv2d_block(inputs=x, filters=filters)\n",
    "\n",
    "    # Создаём декодер\n",
    "    for conv in reversed(down_layers):\n",
    "        # conv - данные для skip-connection с соответствующей стадии энкодера.\n",
    "        filters //= 2  # Уемньшаем количество каналов на каждой стадии декодера вдвое.\n",
    "        x = K.layers.UpSampling2D(size=(2,2))(x)\n",
    "        x = K.layers.Conv2D(filters, 2, activation='relu', padding='same', kernel_initializer='he_normal')(x)\n",
    "        x = K.layers.concatenate([x, conv])\n",
    "        x = conv2d_block(inputs=x, filters=filters)\n",
    "\n",
    "    outputs = K.layers.Conv2D(num_classes, (1, 1), activation=output_activation)(x)    \n",
    "\n",
    "    model = K.Model(inputs=[inputs], outputs=[outputs])\n",
    "    return model"
   ]
  },
  {
   "cell_type": "code",
   "execution_count": 11,
   "id": "d30824fd",
   "metadata": {},
   "outputs": [],
   "source": [
    "# Очищаем текущую сессию от возможно присутствующих предыдущих построенных моделей (при повторных вызовах).\n",
    "K.backend.clear_session()\n",
    "\n",
    "# Создаём модель (размер входа соответствует размеру данных, которые мы готовим в нашем генераторе данных)\n",
    "IMG_SIZE = 256\n",
    "model = create_unet_model([IMG_SIZE, IMG_SIZE, 1])"
   ]
  },
  {
   "cell_type": "code",
   "execution_count": 12,
   "id": "5ef49156",
   "metadata": {},
   "outputs": [
    {
     "name": "stdout",
     "output_type": "stream",
     "text": [
      "Model: \"model\"\n",
      "__________________________________________________________________________________________________\n",
      " Layer (type)                   Output Shape         Param #     Connected to                     \n",
      "==================================================================================================\n",
      " input_1 (InputLayer)           [(None, 256, 256, 1  0           []                               \n",
      "                                )]                                                                \n",
      "                                                                                                  \n",
      " conv2d (Conv2D)                (None, 256, 256, 64  640         ['input_1[0][0]']                \n",
      "                                )                                                                 \n",
      "                                                                                                  \n",
      " conv2d_1 (Conv2D)              (None, 256, 256, 64  36928       ['conv2d[0][0]']                 \n",
      "                                )                                                                 \n",
      "                                                                                                  \n",
      " max_pooling2d (MaxPooling2D)   (None, 128, 128, 64  0           ['conv2d_1[0][0]']               \n",
      "                                )                                                                 \n",
      "                                                                                                  \n",
      " conv2d_2 (Conv2D)              (None, 128, 128, 12  73856       ['max_pooling2d[0][0]']          \n",
      "                                8)                                                                \n",
      "                                                                                                  \n",
      " conv2d_3 (Conv2D)              (None, 128, 128, 12  147584      ['conv2d_2[0][0]']               \n",
      "                                8)                                                                \n",
      "                                                                                                  \n",
      " max_pooling2d_1 (MaxPooling2D)  (None, 64, 64, 128)  0          ['conv2d_3[0][0]']               \n",
      "                                                                                                  \n",
      " conv2d_4 (Conv2D)              (None, 64, 64, 256)  295168      ['max_pooling2d_1[0][0]']        \n",
      "                                                                                                  \n",
      " conv2d_5 (Conv2D)              (None, 64, 64, 256)  590080      ['conv2d_4[0][0]']               \n",
      "                                                                                                  \n",
      " max_pooling2d_2 (MaxPooling2D)  (None, 32, 32, 256)  0          ['conv2d_5[0][0]']               \n",
      "                                                                                                  \n",
      " conv2d_6 (Conv2D)              (None, 32, 32, 512)  1180160     ['max_pooling2d_2[0][0]']        \n",
      "                                                                                                  \n",
      " conv2d_7 (Conv2D)              (None, 32, 32, 512)  2359808     ['conv2d_6[0][0]']               \n",
      "                                                                                                  \n",
      " max_pooling2d_3 (MaxPooling2D)  (None, 16, 16, 512)  0          ['conv2d_7[0][0]']               \n",
      "                                                                                                  \n",
      " dropout (Dropout)              (None, 16, 16, 512)  0           ['max_pooling2d_3[0][0]']        \n",
      "                                                                                                  \n",
      " conv2d_8 (Conv2D)              (None, 16, 16, 1024  4719616     ['dropout[0][0]']                \n",
      "                                )                                                                 \n",
      "                                                                                                  \n",
      " conv2d_9 (Conv2D)              (None, 16, 16, 1024  9438208     ['conv2d_8[0][0]']               \n",
      "                                )                                                                 \n",
      "                                                                                                  \n",
      " up_sampling2d (UpSampling2D)   (None, 32, 32, 1024  0           ['conv2d_9[0][0]']               \n",
      "                                )                                                                 \n",
      "                                                                                                  \n",
      " conv2d_10 (Conv2D)             (None, 32, 32, 512)  2097664     ['up_sampling2d[0][0]']          \n",
      "                                                                                                  \n",
      " concatenate (Concatenate)      (None, 32, 32, 1024  0           ['conv2d_10[0][0]',              \n",
      "                                )                                 'conv2d_7[0][0]']               \n",
      "                                                                                                  \n",
      " conv2d_11 (Conv2D)             (None, 32, 32, 512)  4719104     ['concatenate[0][0]']            \n",
      "                                                                                                  \n",
      " conv2d_12 (Conv2D)             (None, 32, 32, 512)  2359808     ['conv2d_11[0][0]']              \n",
      "                                                                                                  \n",
      " up_sampling2d_1 (UpSampling2D)  (None, 64, 64, 512)  0          ['conv2d_12[0][0]']              \n",
      "                                                                                                  \n",
      " conv2d_13 (Conv2D)             (None, 64, 64, 256)  524544      ['up_sampling2d_1[0][0]']        \n",
      "                                                                                                  \n",
      " concatenate_1 (Concatenate)    (None, 64, 64, 512)  0           ['conv2d_13[0][0]',              \n",
      "                                                                  'conv2d_5[0][0]']               \n",
      "                                                                                                  \n",
      " conv2d_14 (Conv2D)             (None, 64, 64, 256)  1179904     ['concatenate_1[0][0]']          \n",
      "                                                                                                  \n",
      " conv2d_15 (Conv2D)             (None, 64, 64, 256)  590080      ['conv2d_14[0][0]']              \n",
      "                                                                                                  \n",
      " up_sampling2d_2 (UpSampling2D)  (None, 128, 128, 25  0          ['conv2d_15[0][0]']              \n",
      "                                6)                                                                \n",
      "                                                                                                  \n",
      " conv2d_16 (Conv2D)             (None, 128, 128, 12  131200      ['up_sampling2d_2[0][0]']        \n",
      "                                8)                                                                \n",
      "                                                                                                  \n",
      " concatenate_2 (Concatenate)    (None, 128, 128, 25  0           ['conv2d_16[0][0]',              \n",
      "                                6)                                'conv2d_3[0][0]']               \n",
      "                                                                                                  \n",
      " conv2d_17 (Conv2D)             (None, 128, 128, 12  295040      ['concatenate_2[0][0]']          \n",
      "                                8)                                                                \n",
      "                                                                                                  \n",
      " conv2d_18 (Conv2D)             (None, 128, 128, 12  147584      ['conv2d_17[0][0]']              \n",
      "                                8)                                                                \n",
      "                                                                                                  \n",
      " up_sampling2d_3 (UpSampling2D)  (None, 256, 256, 12  0          ['conv2d_18[0][0]']              \n",
      "                                8)                                                                \n",
      "                                                                                                  \n",
      " conv2d_19 (Conv2D)             (None, 256, 256, 64  32832       ['up_sampling2d_3[0][0]']        \n",
      "                                )                                                                 \n",
      "                                                                                                  \n",
      " concatenate_3 (Concatenate)    (None, 256, 256, 12  0           ['conv2d_19[0][0]',              \n",
      "                                8)                                'conv2d_1[0][0]']               \n",
      "                                                                                                  \n",
      " conv2d_20 (Conv2D)             (None, 256, 256, 64  73792       ['concatenate_3[0][0]']          \n",
      "                                )                                                                 \n",
      "                                                                                                  \n",
      " conv2d_21 (Conv2D)             (None, 256, 256, 64  36928       ['conv2d_20[0][0]']              \n",
      "                                )                                                                 \n",
      "                                                                                                  \n",
      " conv2d_22 (Conv2D)             (None, 256, 256, 1)  65          ['conv2d_21[0][0]']              \n",
      "                                                                                                  \n",
      "==================================================================================================\n",
      "Total params: 31,030,593\n",
      "Trainable params: 31,030,593\n",
      "Non-trainable params: 0\n",
      "__________________________________________________________________________________________________\n"
     ]
    }
   ],
   "source": [
    "# Для контроля правильности объявления модели можно произвести вывод \"краткой\" сводки\n",
    "model.summary()"
   ]
  },
  {
   "cell_type": "code",
   "execution_count": 17,
   "id": "bae3176f",
   "metadata": {},
   "outputs": [
    {
     "name": "stdout",
     "output_type": "stream",
     "text": [
      "('You must install pydot (`pip install pydot`) and install graphviz (see instructions at https://graphviz.gitlab.io/download/) ', 'for plot_model/model_to_dot to work.')\n"
     ]
    }
   ],
   "source": [
    "# Можно также произвести отрисовку структуры модели (которая чаще бывает более информативной)\n",
    "K.utils.plot_model(model, show_layer_names=False, show_shapes=True)"
   ]
  },
  {
   "cell_type": "markdown",
   "id": "8683d86b",
   "metadata": {},
   "source": [
    "### Обучение модели U-Net"
   ]
  },
  {
   "cell_type": "markdown",
   "id": "22c00b8a",
   "metadata": {},
   "source": [
    "#### Получаем список изображений и перемешиваем его"
   ]
  },
  {
   "cell_type": "code",
   "execution_count": 18,
   "id": "ce110f32",
   "metadata": {},
   "outputs": [
    {
     "name": "stdout",
     "output_type": "stream",
     "text": [
      "Train images number: -8\n",
      "Validation images number: 8\n"
     ]
    }
   ],
   "source": [
    "imgs_paths = get_masks_path('/content/drive/MyDrive/Datasets/nails/labels')\n",
    "\n",
    "random.seed(123)\n",
    "random.shuffle(imgs_paths)\n",
    "\n",
    "# Разбиваем данные на тренировочные и валидационные\n",
    "VAL_IMGS_NUM = 8\n",
    "TRAIN_IMNGS_NUM = len(imgs_paths) - VAL_IMGS_NUM\n",
    "\n",
    "train_imgs_path = imgs_paths[:-VAL_IMGS_NUM]\n",
    "val_imgs_paths = imgs_paths[-VAL_IMGS_NUM:]\n",
    "\n",
    "print('Train images number:', TRAIN_IMNGS_NUM)\n",
    "print('Validation images number:', VAL_IMGS_NUM)"
   ]
  },
  {
   "cell_type": "code",
   "execution_count": 19,
   "id": "a0ca5922",
   "metadata": {},
   "outputs": [],
   "source": [
    "def validate(val_mode, val_data, img_size, border_size=3):\n",
    "    random.seed(5)\n",
    "    validation_data_generator = create_data_generator(val_data, img_size, 1, border_size=border_size)\n",
    "\n",
    "    for batch_inputs, batch_labels in validation_data_generator:\n",
    "\n",
    "        model_output = val_mode.predict_on_batch(batch_inputs)\n",
    "\n",
    "        plt.figure(figsize=(10, 6))\n",
    "        plt.subplot(1, 3, 1)\n",
    "        plt.imshow(batch_inputs[0, ..., 0], cmap='gray')\n",
    "        plt.title('Input')\n",
    "        plt.subplot(1, 3, 2)\n",
    "        plt.imshow(batch_labels[0, ..., 0], cmap='gray')\n",
    "        plt.title('Label (Ground truth)')\n",
    "        plt.subplot(1, 3, 3)\n",
    "        plt.imshow(model_output[0, ..., 0], cmap='gray')\n",
    "        plt.title('Prediction')\n",
    "        plt.show()"
   ]
  },
  {
   "cell_type": "markdown",
   "id": "0a1b5a65",
   "metadata": {},
   "source": [
    "#### Строим модель"
   ]
  },
  {
   "cell_type": "code",
   "execution_count": 20,
   "id": "863921d7",
   "metadata": {},
   "outputs": [
    {
     "name": "stderr",
     "output_type": "stream",
     "text": [
      "C:\\Users\\gnome\\mambaforge\\lib\\site-packages\\keras\\optimizer_v2\\adam.py:105: UserWarning: The `lr` argument is deprecated, use `learning_rate` instead.\n",
      "  super(Adam, self).__init__(name, **kwargs)\n"
     ]
    }
   ],
   "source": [
    "# Очищаем текущую сессию от возможно присутствующих предыдущих построенных моделей (при повторных вызовах).\n",
    "K.backend.clear_session()\n",
    "\n",
    "random.seed(777)\n",
    "np.random.seed(777)\n",
    "# tf.set_random_seed(777)\n",
    "\n",
    "# Создаём модель (размер входа соответствует размеру данных, которые мы готовим в нашем генераторе данных)\n",
    "IMG_SIZE = 256\n",
    "model = create_unet_model([IMG_SIZE, IMG_SIZE, 1])\n",
    "\n",
    "# Привязываем к модели оптимизатор, функцию потерь и метрику, при помощи которой будем оценивать качество работы сети\n",
    "model.compile(optimizer = K.optimizers.Adam(lr=1e-4), loss='binary_crossentropy', metrics=[K.metrics.MeanIoU(num_classes=2)])"
   ]
  },
  {
   "cell_type": "markdown",
   "id": "46412fd5",
   "metadata": {},
   "source": [
    "#### Предварительно проверяем качество модели"
   ]
  },
  {
   "cell_type": "code",
   "execution_count": 21,
   "id": "960c2fb1",
   "metadata": {},
   "outputs": [],
   "source": [
    "validate(model, val_imgs_paths[4:], IMG_SIZE)"
   ]
  },
  {
   "cell_type": "markdown",
   "id": "5ddbc0ea",
   "metadata": {},
   "source": [
    "#### Производим обучение на трёх эпохах"
   ]
  },
  {
   "cell_type": "code",
   "execution_count": 22,
   "id": "bf3a1dd8",
   "metadata": {},
   "outputs": [
    {
     "ename": "StopIteration",
     "evalue": "",
     "output_type": "error",
     "traceback": [
      "\u001b[1;31m---------------------------------------------------------------------------\u001b[0m",
      "\u001b[1;31mStopIteration\u001b[0m                             Traceback (most recent call last)",
      "\u001b[1;32m~\\AppData\\Local\\Temp/ipykernel_6780/416375064.py\u001b[0m in \u001b[0;36m<module>\u001b[1;34m\u001b[0m\n\u001b[0;32m      5\u001b[0m \u001b[0mtrain_data_generator\u001b[0m \u001b[1;33m=\u001b[0m \u001b[0mtrain_generator\u001b[0m\u001b[1;33m(\u001b[0m\u001b[0mtrain_imgs_path\u001b[0m\u001b[1;33m,\u001b[0m \u001b[0mIMG_SIZE\u001b[0m\u001b[1;33m,\u001b[0m \u001b[0mBATCH_SIZE\u001b[0m\u001b[1;33m,\u001b[0m \u001b[0mEPOCHS_NUMBER\u001b[0m\u001b[1;33m,\u001b[0m \u001b[0mborder_size\u001b[0m\u001b[1;33m=\u001b[0m\u001b[1;36m3\u001b[0m\u001b[1;33m,\u001b[0m \u001b[0maug_fn\u001b[0m\u001b[1;33m=\u001b[0m\u001b[0maugmentation_function\u001b[0m\u001b[1;33m)\u001b[0m\u001b[1;33m\u001b[0m\u001b[1;33m\u001b[0m\u001b[0m\n\u001b[0;32m      6\u001b[0m \u001b[1;33m\u001b[0m\u001b[0m\n\u001b[1;32m----> 7\u001b[1;33m \u001b[0mhistory\u001b[0m \u001b[1;33m=\u001b[0m \u001b[0mmodel\u001b[0m\u001b[1;33m.\u001b[0m\u001b[0mfit\u001b[0m\u001b[1;33m(\u001b[0m\u001b[0mtrain_data_generator\u001b[0m\u001b[1;33m,\u001b[0m \u001b[0mepochs\u001b[0m\u001b[1;33m=\u001b[0m\u001b[0mEPOCHS_NUMBER\u001b[0m\u001b[1;33m,\u001b[0m \u001b[0msteps_per_epoch\u001b[0m\u001b[1;33m=\u001b[0m\u001b[0mTRAIN_IMNGS_NUM\u001b[0m \u001b[1;33m//\u001b[0m \u001b[0mBATCH_SIZE\u001b[0m\u001b[1;33m)\u001b[0m\u001b[1;33m\u001b[0m\u001b[1;33m\u001b[0m\u001b[0m\n\u001b[0m",
      "\u001b[1;32m~\\mambaforge\\lib\\site-packages\\keras\\utils\\traceback_utils.py\u001b[0m in \u001b[0;36merror_handler\u001b[1;34m(*args, **kwargs)\u001b[0m\n\u001b[0;32m     65\u001b[0m     \u001b[1;32mexcept\u001b[0m \u001b[0mException\u001b[0m \u001b[1;32mas\u001b[0m \u001b[0me\u001b[0m\u001b[1;33m:\u001b[0m  \u001b[1;31m# pylint: disable=broad-except\u001b[0m\u001b[1;33m\u001b[0m\u001b[1;33m\u001b[0m\u001b[0m\n\u001b[0;32m     66\u001b[0m       \u001b[0mfiltered_tb\u001b[0m \u001b[1;33m=\u001b[0m \u001b[0m_process_traceback_frames\u001b[0m\u001b[1;33m(\u001b[0m\u001b[0me\u001b[0m\u001b[1;33m.\u001b[0m\u001b[0m__traceback__\u001b[0m\u001b[1;33m)\u001b[0m\u001b[1;33m\u001b[0m\u001b[1;33m\u001b[0m\u001b[0m\n\u001b[1;32m---> 67\u001b[1;33m       \u001b[1;32mraise\u001b[0m \u001b[0me\u001b[0m\u001b[1;33m.\u001b[0m\u001b[0mwith_traceback\u001b[0m\u001b[1;33m(\u001b[0m\u001b[0mfiltered_tb\u001b[0m\u001b[1;33m)\u001b[0m \u001b[1;32mfrom\u001b[0m \u001b[1;32mNone\u001b[0m\u001b[1;33m\u001b[0m\u001b[1;33m\u001b[0m\u001b[0m\n\u001b[0m\u001b[0;32m     68\u001b[0m     \u001b[1;32mfinally\u001b[0m\u001b[1;33m:\u001b[0m\u001b[1;33m\u001b[0m\u001b[1;33m\u001b[0m\u001b[0m\n\u001b[0;32m     69\u001b[0m       \u001b[1;32mdel\u001b[0m \u001b[0mfiltered_tb\u001b[0m\u001b[1;33m\u001b[0m\u001b[1;33m\u001b[0m\u001b[0m\n",
      "\u001b[1;32m~\\mambaforge\\lib\\site-packages\\keras\\engine\\data_adapter.py\u001b[0m in \u001b[0;36m_peek_and_restore\u001b[1;34m(x)\u001b[0m\n\u001b[0;32m    861\u001b[0m   \u001b[1;33m@\u001b[0m\u001b[0mstaticmethod\u001b[0m\u001b[1;33m\u001b[0m\u001b[1;33m\u001b[0m\u001b[0m\n\u001b[0;32m    862\u001b[0m   \u001b[1;32mdef\u001b[0m \u001b[0m_peek_and_restore\u001b[0m\u001b[1;33m(\u001b[0m\u001b[0mx\u001b[0m\u001b[1;33m)\u001b[0m\u001b[1;33m:\u001b[0m\u001b[1;33m\u001b[0m\u001b[1;33m\u001b[0m\u001b[0m\n\u001b[1;32m--> 863\u001b[1;33m     \u001b[0mpeek\u001b[0m \u001b[1;33m=\u001b[0m \u001b[0mnext\u001b[0m\u001b[1;33m(\u001b[0m\u001b[0mx\u001b[0m\u001b[1;33m)\u001b[0m\u001b[1;33m\u001b[0m\u001b[1;33m\u001b[0m\u001b[0m\n\u001b[0m\u001b[0;32m    864\u001b[0m     \u001b[1;32mreturn\u001b[0m \u001b[0mpeek\u001b[0m\u001b[1;33m,\u001b[0m \u001b[0mitertools\u001b[0m\u001b[1;33m.\u001b[0m\u001b[0mchain\u001b[0m\u001b[1;33m(\u001b[0m\u001b[1;33m[\u001b[0m\u001b[0mpeek\u001b[0m\u001b[1;33m]\u001b[0m\u001b[1;33m,\u001b[0m \u001b[0mx\u001b[0m\u001b[1;33m)\u001b[0m\u001b[1;33m\u001b[0m\u001b[1;33m\u001b[0m\u001b[0m\n\u001b[0;32m    865\u001b[0m \u001b[1;33m\u001b[0m\u001b[0m\n",
      "\u001b[1;31mStopIteration\u001b[0m: "
     ]
    }
   ],
   "source": [
    "BATCH_SIZE = 4\n",
    "EPOCHS_NUMBER = 3\n",
    "\n",
    "# Создаём тренировочный генератор, расчитанный на несколько эпох\n",
    "train_data_generator = train_generator(train_imgs_path, IMG_SIZE, BATCH_SIZE, EPOCHS_NUMBER, border_size=3, aug_fn=augmentation_function)\n",
    "\n",
    "history = model.fit(train_data_generator, epochs=EPOCHS_NUMBER, steps_per_epoch=TRAIN_IMNGS_NUM // BATCH_SIZE)"
   ]
  },
  {
   "cell_type": "markdown",
   "id": "1af16fbe",
   "metadata": {},
   "source": [
    "#### Снова проверяем качество модели"
   ]
  },
  {
   "cell_type": "code",
   "execution_count": null,
   "id": "fc0041d7",
   "metadata": {},
   "outputs": [],
   "source": [
    "validate(model, val_imgs_paths[4:], IMG_SIZE)"
   ]
  },
  {
   "cell_type": "markdown",
   "id": "5ba86798",
   "metadata": {},
   "source": [
    "> Модель явно начинает выполнять поставленную задачу, но стоит доучить"
   ]
  },
  {
   "cell_type": "markdown",
   "id": "db1538b2",
   "metadata": {},
   "source": [
    "#### Производим дообучение ещё на 12 эпохах"
   ]
  },
  {
   "cell_type": "code",
   "execution_count": null,
   "id": "12c6dcd0",
   "metadata": {},
   "outputs": [],
   "source": [
    "BATCH_SIZE = 2\n",
    "EPOCHS_NUMBER = 17\n",
    "\n",
    "# Создаём тренировочный генератор, расчитанный на несколько эпох\n",
    "train_data_generator = train_generator(train_imgs_path, IMG_SIZE, BATCH_SIZE, EPOCHS_NUMBER, border_size=3, aug_fn=augmentation_function)\n",
    "\n",
    "# Стартуем с предыдущей эпохи (особенно важно, если у вас как то зависят параметры оптимизатора от номера эпохи)\n",
    "# Также должна правильно обновляться история и производиться логнирование в TensorBoard\n",
    "prev_epoch = history.epoch[-1] + 1\n",
    "history = model.fit(\n",
    "    train_data_generator,\n",
    "    epochs=EPOCHS_NUMBER + prev_epoch,  # prev_epoch уже пройдено, и ещё новых EPOCHS_NUMBER\n",
    "    steps_per_epoch=TRAIN_IMNGS_NUM // BATCH_SIZE,\n",
    "    initial_epoch=prev_epoch,  # непосредственно указание, что prev_epoch пройдено\n",
    ")"
   ]
  },
  {
   "cell_type": "markdown",
   "id": "74384741",
   "metadata": {},
   "source": [
    "#### И ещё раз проверяем качество модели"
   ]
  },
  {
   "cell_type": "code",
   "execution_count": null,
   "id": "e1a40eb0",
   "metadata": {},
   "outputs": [],
   "source": [
    "validate(model, val_imgs_paths[:], IMG_SIZE)"
   ]
  },
  {
   "cell_type": "markdown",
   "id": "434f2196",
   "metadata": {},
   "source": [
    "#### История на обучении"
   ]
  },
  {
   "cell_type": "code",
   "execution_count": null,
   "id": "4fd32a33",
   "metadata": {},
   "outputs": [],
   "source": [
    "plt.plot(history.epoch, history.history['loss'])\n",
    "plt.ylabel('Loss')\n",
    "plt.xlabel('Epoch')\n",
    "plt.plot()"
   ]
  },
  {
   "cell_type": "markdown",
   "id": "8e45dbd3",
   "metadata": {},
   "source": [
    "# Домашнее задание.\n",
    "\n",
    "1. Произвести обучение модели для сегментации ногтей на фотографии. За основу модели взять архитектуру U-Net из урока.\n",
    "2. Информацию об обучении необходимо вывести в Tensorboard.\n",
    "3. Подобрать параметры оптимизатора (learning rate), а также количество эпох для достижения наилучшего соотношения \"качество предсказания / время обучения\"\n",
    "\n"
   ]
  }
 ],
 "metadata": {
  "kernelspec": {
   "display_name": "Python 3 (ipykernel)",
   "language": "python",
   "name": "python3"
  },
  "language_info": {
   "codemirror_mode": {
    "name": "ipython",
    "version": 3
   },
   "file_extension": ".py",
   "mimetype": "text/x-python",
   "name": "python",
   "nbconvert_exporter": "python",
   "pygments_lexer": "ipython3",
   "version": "3.9.6"
  }
 },
 "nbformat": 4,
 "nbformat_minor": 5
}

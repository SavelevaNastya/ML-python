{
 "cells": [
  {
   "cell_type": "markdown",
   "metadata": {
    "slideshow": {
     "slide_type": "slide"
    }
   },
   "source": [
    "# Задания  \n",
    "\n",
    "1. Для данных MNIST построить нейронную сеть с выводом логов для tensorboard. Посмотреть в изменение логов в процессе обучения.\n",
    "2. Сравнить поведение процесса обучения различными оптимизаторами для модели (графики истории).\n",
    "3. Изменить структуру сети так, чтобы модель переобучалась (для этого можно использовать тест как валидацию). Посмотреть, как это будут выглядеть графики обучения. (Если не удаётся переобучить, то уменьшить размер тренировочной выборки).  \n",
    "4. Использовать аугментацию при обучении. Сравнить графики.  "
   ]
  },
  {
   "cell_type": "code",
   "execution_count": 1,
   "metadata": {},
   "outputs": [],
   "source": [
    "import numpy as np\n",
    "import os\n",
    "import tensorflow as tf\n",
    "from tensorflow import keras\n",
    "import matplotlib.pyplot as plt\n",
    "from keras.datasets import mnist\n",
    "from keras.layers import Dense, Conv2D, Input, Flatten, MaxPool2D\n",
    "from keras.models import Model\n",
    "from tensorflow.keras.utils import to_categorical\n",
    "from keras.callbacks import TensorBoard"
   ]
  },
  {
   "cell_type": "code",
   "execution_count": 2,
   "metadata": {},
   "outputs": [
    {
     "name": "stdout",
     "output_type": "stream",
     "text": [
      "x_train shape: (60000, 784)\n",
      "x_test shape: (10000, 784)\n"
     ]
    }
   ],
   "source": [
    "# 1. Для данных MNIST построить нейронную сеть с выводом логов для tensorboard. \n",
    "# Посмотреть в изменение логов в процессе обучения.\n",
    "\n",
    "(x_train, y_train), (x_test, y_test) = mnist.load_data()\n",
    "\n",
    "y_train_cl = to_categorical(y_train, num_classes=10)\n",
    "y_test_cl = to_categorical(y_test, num_classes=10)\n",
    "\n",
    "x_train_scaled = x_train.astype(\"float32\") / 255\n",
    "x_test_scaled = x_test.astype(\"float32\") / 255\n",
    "x_train_scaled = x_train_scaled.reshape(-1, 784) \n",
    "x_test_scaled = x_test_scaled.reshape(-1, 784) \n",
    "\n",
    "print(\"x_train shape:\", x_train_scaled.shape)\n",
    "print(\"x_test shape:\", x_test_scaled.shape)"
   ]
  },
  {
   "cell_type": "code",
   "execution_count": 3,
   "metadata": {},
   "outputs": [],
   "source": [
    "def model(opt):\n",
    "    model = tf.keras.models.Sequential()\n",
    "    model.add(tf.keras.layers.Dense(256,activation = 'relu',input_shape=(784,)))\n",
    "    model.add(tf.keras.layers.Dropout(0.8))\n",
    "    model.add(tf.keras.layers.Dense(10, activation = 'softmax'))\n",
    "    model.compile(optimizer=opt, loss='categorical_crossentropy', metrics=['accuracy'])\n",
    "    model.summary()\n",
    "    return model"
   ]
  },
  {
   "cell_type": "code",
   "execution_count": 4,
   "metadata": {},
   "outputs": [
    {
     "name": "stdout",
     "output_type": "stream",
     "text": [
      "Model: \"sequential\"\n",
      "_________________________________________________________________\n",
      " Layer (type)                Output Shape              Param #   \n",
      "=================================================================\n",
      " dense (Dense)               (None, 256)               200960    \n",
      "                                                                 \n",
      " dropout (Dropout)           (None, 256)               0         \n",
      "                                                                 \n",
      " dense_1 (Dense)             (None, 10)                2570      \n",
      "                                                                 \n",
      "=================================================================\n",
      "Total params: 203,530\n",
      "Trainable params: 203,530\n",
      "Non-trainable params: 0\n",
      "_________________________________________________________________\n",
      "Epoch 1/30\n",
      "1627/3000 [===============>..............] - ETA: 3s - loss: 0.6812 - accuracy: 0.7882"
     ]
    },
    {
     "ename": "KeyboardInterrupt",
     "evalue": "",
     "output_type": "error",
     "traceback": [
      "\u001b[1;31m---------------------------------------------------------------------------\u001b[0m",
      "\u001b[1;31mKeyboardInterrupt\u001b[0m                         Traceback (most recent call last)",
      "\u001b[1;32m~\\AppData\\Local\\Temp/ipykernel_5612/2620844440.py\u001b[0m in \u001b[0;36m<module>\u001b[1;34m\u001b[0m\n\u001b[0;32m      6\u001b[0m \u001b[1;31m# RUN tensorboard --logdir=./\u001b[0m\u001b[1;33m\u001b[0m\u001b[1;33m\u001b[0m\u001b[1;33m\u001b[0m\u001b[0m\n\u001b[0;32m      7\u001b[0m \u001b[1;33m\u001b[0m\u001b[0m\n\u001b[1;32m----> 8\u001b[1;33m \u001b[0mhistory\u001b[0m \u001b[1;33m=\u001b[0m \u001b[0mmodel_adam\u001b[0m\u001b[1;33m.\u001b[0m\u001b[0mfit\u001b[0m\u001b[1;33m(\u001b[0m\u001b[0mx_train_scaled\u001b[0m\u001b[1;33m,\u001b[0m \u001b[0my_train_cl\u001b[0m\u001b[1;33m,\u001b[0m \u001b[0mbatch_size\u001b[0m\u001b[1;33m=\u001b[0m\u001b[1;36m16\u001b[0m\u001b[1;33m,\u001b[0m \u001b[0mvalidation_split\u001b[0m\u001b[1;33m=\u001b[0m\u001b[1;36m0.2\u001b[0m\u001b[1;33m,\u001b[0m \u001b[0mepochs\u001b[0m\u001b[1;33m=\u001b[0m\u001b[1;36m30\u001b[0m\u001b[1;33m,\u001b[0m \u001b[0mcallbacks\u001b[0m\u001b[1;33m=\u001b[0m\u001b[1;33m[\u001b[0m\u001b[0mtensorboard_callback\u001b[0m\u001b[1;33m]\u001b[0m\u001b[1;33m)\u001b[0m\u001b[1;33m\u001b[0m\u001b[1;33m\u001b[0m\u001b[0m\n\u001b[0m",
      "\u001b[1;32m~\\mambaforge\\lib\\site-packages\\keras\\utils\\traceback_utils.py\u001b[0m in \u001b[0;36merror_handler\u001b[1;34m(*args, **kwargs)\u001b[0m\n\u001b[0;32m     62\u001b[0m     \u001b[0mfiltered_tb\u001b[0m \u001b[1;33m=\u001b[0m \u001b[1;32mNone\u001b[0m\u001b[1;33m\u001b[0m\u001b[1;33m\u001b[0m\u001b[0m\n\u001b[0;32m     63\u001b[0m     \u001b[1;32mtry\u001b[0m\u001b[1;33m:\u001b[0m\u001b[1;33m\u001b[0m\u001b[1;33m\u001b[0m\u001b[0m\n\u001b[1;32m---> 64\u001b[1;33m       \u001b[1;32mreturn\u001b[0m \u001b[0mfn\u001b[0m\u001b[1;33m(\u001b[0m\u001b[1;33m*\u001b[0m\u001b[0margs\u001b[0m\u001b[1;33m,\u001b[0m \u001b[1;33m**\u001b[0m\u001b[0mkwargs\u001b[0m\u001b[1;33m)\u001b[0m\u001b[1;33m\u001b[0m\u001b[1;33m\u001b[0m\u001b[0m\n\u001b[0m\u001b[0;32m     65\u001b[0m     \u001b[1;32mexcept\u001b[0m \u001b[0mException\u001b[0m \u001b[1;32mas\u001b[0m \u001b[0me\u001b[0m\u001b[1;33m:\u001b[0m  \u001b[1;31m# pylint: disable=broad-except\u001b[0m\u001b[1;33m\u001b[0m\u001b[1;33m\u001b[0m\u001b[0m\n\u001b[0;32m     66\u001b[0m       \u001b[0mfiltered_tb\u001b[0m \u001b[1;33m=\u001b[0m \u001b[0m_process_traceback_frames\u001b[0m\u001b[1;33m(\u001b[0m\u001b[0me\u001b[0m\u001b[1;33m.\u001b[0m\u001b[0m__traceback__\u001b[0m\u001b[1;33m)\u001b[0m\u001b[1;33m\u001b[0m\u001b[1;33m\u001b[0m\u001b[0m\n",
      "\u001b[1;32m~\\mambaforge\\lib\\site-packages\\keras\\engine\\training.py\u001b[0m in \u001b[0;36mfit\u001b[1;34m(self, x, y, batch_size, epochs, verbose, callbacks, validation_split, validation_data, shuffle, class_weight, sample_weight, initial_epoch, steps_per_epoch, validation_steps, validation_batch_size, validation_freq, max_queue_size, workers, use_multiprocessing)\u001b[0m\n\u001b[0;32m   1214\u001b[0m                 _r=1):\n\u001b[0;32m   1215\u001b[0m               \u001b[0mcallbacks\u001b[0m\u001b[1;33m.\u001b[0m\u001b[0mon_train_batch_begin\u001b[0m\u001b[1;33m(\u001b[0m\u001b[0mstep\u001b[0m\u001b[1;33m)\u001b[0m\u001b[1;33m\u001b[0m\u001b[1;33m\u001b[0m\u001b[0m\n\u001b[1;32m-> 1216\u001b[1;33m               \u001b[0mtmp_logs\u001b[0m \u001b[1;33m=\u001b[0m \u001b[0mself\u001b[0m\u001b[1;33m.\u001b[0m\u001b[0mtrain_function\u001b[0m\u001b[1;33m(\u001b[0m\u001b[0miterator\u001b[0m\u001b[1;33m)\u001b[0m\u001b[1;33m\u001b[0m\u001b[1;33m\u001b[0m\u001b[0m\n\u001b[0m\u001b[0;32m   1217\u001b[0m               \u001b[1;32mif\u001b[0m \u001b[0mdata_handler\u001b[0m\u001b[1;33m.\u001b[0m\u001b[0mshould_sync\u001b[0m\u001b[1;33m:\u001b[0m\u001b[1;33m\u001b[0m\u001b[1;33m\u001b[0m\u001b[0m\n\u001b[0;32m   1218\u001b[0m                 \u001b[0mcontext\u001b[0m\u001b[1;33m.\u001b[0m\u001b[0masync_wait\u001b[0m\u001b[1;33m(\u001b[0m\u001b[1;33m)\u001b[0m\u001b[1;33m\u001b[0m\u001b[1;33m\u001b[0m\u001b[0m\n",
      "\u001b[1;32m~\\mambaforge\\lib\\site-packages\\tensorflow\\python\\util\\traceback_utils.py\u001b[0m in \u001b[0;36merror_handler\u001b[1;34m(*args, **kwargs)\u001b[0m\n\u001b[0;32m    148\u001b[0m     \u001b[0mfiltered_tb\u001b[0m \u001b[1;33m=\u001b[0m \u001b[1;32mNone\u001b[0m\u001b[1;33m\u001b[0m\u001b[1;33m\u001b[0m\u001b[0m\n\u001b[0;32m    149\u001b[0m     \u001b[1;32mtry\u001b[0m\u001b[1;33m:\u001b[0m\u001b[1;33m\u001b[0m\u001b[1;33m\u001b[0m\u001b[0m\n\u001b[1;32m--> 150\u001b[1;33m       \u001b[1;32mreturn\u001b[0m \u001b[0mfn\u001b[0m\u001b[1;33m(\u001b[0m\u001b[1;33m*\u001b[0m\u001b[0margs\u001b[0m\u001b[1;33m,\u001b[0m \u001b[1;33m**\u001b[0m\u001b[0mkwargs\u001b[0m\u001b[1;33m)\u001b[0m\u001b[1;33m\u001b[0m\u001b[1;33m\u001b[0m\u001b[0m\n\u001b[0m\u001b[0;32m    151\u001b[0m     \u001b[1;32mexcept\u001b[0m \u001b[0mException\u001b[0m \u001b[1;32mas\u001b[0m \u001b[0me\u001b[0m\u001b[1;33m:\u001b[0m\u001b[1;33m\u001b[0m\u001b[1;33m\u001b[0m\u001b[0m\n\u001b[0;32m    152\u001b[0m       \u001b[0mfiltered_tb\u001b[0m \u001b[1;33m=\u001b[0m \u001b[0m_process_traceback_frames\u001b[0m\u001b[1;33m(\u001b[0m\u001b[0me\u001b[0m\u001b[1;33m.\u001b[0m\u001b[0m__traceback__\u001b[0m\u001b[1;33m)\u001b[0m\u001b[1;33m\u001b[0m\u001b[1;33m\u001b[0m\u001b[0m\n",
      "\u001b[1;32m~\\mambaforge\\lib\\site-packages\\tensorflow\\python\\eager\\def_function.py\u001b[0m in \u001b[0;36m__call__\u001b[1;34m(self, *args, **kwds)\u001b[0m\n\u001b[0;32m    908\u001b[0m \u001b[1;33m\u001b[0m\u001b[0m\n\u001b[0;32m    909\u001b[0m       \u001b[1;32mwith\u001b[0m \u001b[0mOptionalXlaContext\u001b[0m\u001b[1;33m(\u001b[0m\u001b[0mself\u001b[0m\u001b[1;33m.\u001b[0m\u001b[0m_jit_compile\u001b[0m\u001b[1;33m)\u001b[0m\u001b[1;33m:\u001b[0m\u001b[1;33m\u001b[0m\u001b[1;33m\u001b[0m\u001b[0m\n\u001b[1;32m--> 910\u001b[1;33m         \u001b[0mresult\u001b[0m \u001b[1;33m=\u001b[0m \u001b[0mself\u001b[0m\u001b[1;33m.\u001b[0m\u001b[0m_call\u001b[0m\u001b[1;33m(\u001b[0m\u001b[1;33m*\u001b[0m\u001b[0margs\u001b[0m\u001b[1;33m,\u001b[0m \u001b[1;33m**\u001b[0m\u001b[0mkwds\u001b[0m\u001b[1;33m)\u001b[0m\u001b[1;33m\u001b[0m\u001b[1;33m\u001b[0m\u001b[0m\n\u001b[0m\u001b[0;32m    911\u001b[0m \u001b[1;33m\u001b[0m\u001b[0m\n\u001b[0;32m    912\u001b[0m       \u001b[0mnew_tracing_count\u001b[0m \u001b[1;33m=\u001b[0m \u001b[0mself\u001b[0m\u001b[1;33m.\u001b[0m\u001b[0mexperimental_get_tracing_count\u001b[0m\u001b[1;33m(\u001b[0m\u001b[1;33m)\u001b[0m\u001b[1;33m\u001b[0m\u001b[1;33m\u001b[0m\u001b[0m\n",
      "\u001b[1;32m~\\mambaforge\\lib\\site-packages\\tensorflow\\python\\eager\\def_function.py\u001b[0m in \u001b[0;36m_call\u001b[1;34m(self, *args, **kwds)\u001b[0m\n\u001b[0;32m    940\u001b[0m       \u001b[1;31m# In this case we have created variables on the first call, so we run the\u001b[0m\u001b[1;33m\u001b[0m\u001b[1;33m\u001b[0m\u001b[1;33m\u001b[0m\u001b[0m\n\u001b[0;32m    941\u001b[0m       \u001b[1;31m# defunned version which is guaranteed to never create variables.\u001b[0m\u001b[1;33m\u001b[0m\u001b[1;33m\u001b[0m\u001b[1;33m\u001b[0m\u001b[0m\n\u001b[1;32m--> 942\u001b[1;33m       \u001b[1;32mreturn\u001b[0m \u001b[0mself\u001b[0m\u001b[1;33m.\u001b[0m\u001b[0m_stateless_fn\u001b[0m\u001b[1;33m(\u001b[0m\u001b[1;33m*\u001b[0m\u001b[0margs\u001b[0m\u001b[1;33m,\u001b[0m \u001b[1;33m**\u001b[0m\u001b[0mkwds\u001b[0m\u001b[1;33m)\u001b[0m  \u001b[1;31m# pylint: disable=not-callable\u001b[0m\u001b[1;33m\u001b[0m\u001b[1;33m\u001b[0m\u001b[0m\n\u001b[0m\u001b[0;32m    943\u001b[0m     \u001b[1;32melif\u001b[0m \u001b[0mself\u001b[0m\u001b[1;33m.\u001b[0m\u001b[0m_stateful_fn\u001b[0m \u001b[1;32mis\u001b[0m \u001b[1;32mnot\u001b[0m \u001b[1;32mNone\u001b[0m\u001b[1;33m:\u001b[0m\u001b[1;33m\u001b[0m\u001b[1;33m\u001b[0m\u001b[0m\n\u001b[0;32m    944\u001b[0m       \u001b[1;31m# Release the lock early so that multiple threads can perform the call\u001b[0m\u001b[1;33m\u001b[0m\u001b[1;33m\u001b[0m\u001b[1;33m\u001b[0m\u001b[0m\n",
      "\u001b[1;32m~\\mambaforge\\lib\\site-packages\\tensorflow\\python\\eager\\function.py\u001b[0m in \u001b[0;36m__call__\u001b[1;34m(self, *args, **kwargs)\u001b[0m\n\u001b[0;32m   3128\u001b[0m       (graph_function,\n\u001b[0;32m   3129\u001b[0m        filtered_flat_args) = self._maybe_define_function(args, kwargs)\n\u001b[1;32m-> 3130\u001b[1;33m     return graph_function._call_flat(\n\u001b[0m\u001b[0;32m   3131\u001b[0m         filtered_flat_args, captured_inputs=graph_function.captured_inputs)  # pylint: disable=protected-access\n\u001b[0;32m   3132\u001b[0m \u001b[1;33m\u001b[0m\u001b[0m\n",
      "\u001b[1;32m~\\mambaforge\\lib\\site-packages\\tensorflow\\python\\eager\\function.py\u001b[0m in \u001b[0;36m_call_flat\u001b[1;34m(self, args, captured_inputs, cancellation_manager)\u001b[0m\n\u001b[0;32m   1957\u001b[0m         and executing_eagerly):\n\u001b[0;32m   1958\u001b[0m       \u001b[1;31m# No tape is watching; skip to running the function.\u001b[0m\u001b[1;33m\u001b[0m\u001b[1;33m\u001b[0m\u001b[1;33m\u001b[0m\u001b[0m\n\u001b[1;32m-> 1959\u001b[1;33m       return self._build_call_outputs(self._inference_function.call(\n\u001b[0m\u001b[0;32m   1960\u001b[0m           ctx, args, cancellation_manager=cancellation_manager))\n\u001b[0;32m   1961\u001b[0m     forward_backward = self._select_forward_and_backward_functions(\n",
      "\u001b[1;32m~\\mambaforge\\lib\\site-packages\\tensorflow\\python\\eager\\function.py\u001b[0m in \u001b[0;36mcall\u001b[1;34m(self, ctx, args, cancellation_manager)\u001b[0m\n\u001b[0;32m    596\u001b[0m       \u001b[1;32mwith\u001b[0m \u001b[0m_InterpolateFunctionError\u001b[0m\u001b[1;33m(\u001b[0m\u001b[0mself\u001b[0m\u001b[1;33m)\u001b[0m\u001b[1;33m:\u001b[0m\u001b[1;33m\u001b[0m\u001b[1;33m\u001b[0m\u001b[0m\n\u001b[0;32m    597\u001b[0m         \u001b[1;32mif\u001b[0m \u001b[0mcancellation_manager\u001b[0m \u001b[1;32mis\u001b[0m \u001b[1;32mNone\u001b[0m\u001b[1;33m:\u001b[0m\u001b[1;33m\u001b[0m\u001b[1;33m\u001b[0m\u001b[0m\n\u001b[1;32m--> 598\u001b[1;33m           outputs = execute.execute(\n\u001b[0m\u001b[0;32m    599\u001b[0m               \u001b[0mstr\u001b[0m\u001b[1;33m(\u001b[0m\u001b[0mself\u001b[0m\u001b[1;33m.\u001b[0m\u001b[0msignature\u001b[0m\u001b[1;33m.\u001b[0m\u001b[0mname\u001b[0m\u001b[1;33m)\u001b[0m\u001b[1;33m,\u001b[0m\u001b[1;33m\u001b[0m\u001b[1;33m\u001b[0m\u001b[0m\n\u001b[0;32m    600\u001b[0m               \u001b[0mnum_outputs\u001b[0m\u001b[1;33m=\u001b[0m\u001b[0mself\u001b[0m\u001b[1;33m.\u001b[0m\u001b[0m_num_outputs\u001b[0m\u001b[1;33m,\u001b[0m\u001b[1;33m\u001b[0m\u001b[1;33m\u001b[0m\u001b[0m\n",
      "\u001b[1;32m~\\mambaforge\\lib\\site-packages\\tensorflow\\python\\eager\\execute.py\u001b[0m in \u001b[0;36mquick_execute\u001b[1;34m(op_name, num_outputs, inputs, attrs, ctx, name)\u001b[0m\n\u001b[0;32m     56\u001b[0m   \u001b[1;32mtry\u001b[0m\u001b[1;33m:\u001b[0m\u001b[1;33m\u001b[0m\u001b[1;33m\u001b[0m\u001b[0m\n\u001b[0;32m     57\u001b[0m     \u001b[0mctx\u001b[0m\u001b[1;33m.\u001b[0m\u001b[0mensure_initialized\u001b[0m\u001b[1;33m(\u001b[0m\u001b[1;33m)\u001b[0m\u001b[1;33m\u001b[0m\u001b[1;33m\u001b[0m\u001b[0m\n\u001b[1;32m---> 58\u001b[1;33m     tensors = pywrap_tfe.TFE_Py_Execute(ctx._handle, device_name, op_name,\n\u001b[0m\u001b[0;32m     59\u001b[0m                                         inputs, attrs, num_outputs)\n\u001b[0;32m     60\u001b[0m   \u001b[1;32mexcept\u001b[0m \u001b[0mcore\u001b[0m\u001b[1;33m.\u001b[0m\u001b[0m_NotOkStatusException\u001b[0m \u001b[1;32mas\u001b[0m \u001b[0me\u001b[0m\u001b[1;33m:\u001b[0m\u001b[1;33m\u001b[0m\u001b[1;33m\u001b[0m\u001b[0m\n",
      "\u001b[1;31mKeyboardInterrupt\u001b[0m: "
     ]
    }
   ],
   "source": [
    "optimizer = 'adam'\n",
    "model_adam = model(optimizer)\n",
    "\n",
    "tensorboard_callback = TensorBoard(log_dir='./logs/'+optimizer, histogram_freq=1)\n",
    "# FROM ...\\logs\\adam> \n",
    "# RUN tensorboard --logdir=./\n",
    "\n",
    "history = model_adam.fit(x_train_scaled, y_train_cl, batch_size=16, validation_split=0.2, epochs=30, callbacks=[tensorboard_callback]) "
   ]
  },
  {
   "cell_type": "code",
   "execution_count": 8,
   "metadata": {},
   "outputs": [
    {
     "name": "stdout",
     "output_type": "stream",
     "text": [
      "Model: \"sequential_1\"\n",
      "_________________________________________________________________\n",
      " Layer (type)                Output Shape              Param #   \n",
      "=================================================================\n",
      " dense_2 (Dense)             (None, 256)               200960    \n",
      "                                                                 \n",
      " dropout_1 (Dropout)         (None, 256)               0         \n",
      "                                                                 \n",
      " dense_3 (Dense)             (None, 10)                2570      \n",
      "                                                                 \n",
      "=================================================================\n",
      "Total params: 203,530\n",
      "Trainable params: 203,530\n",
      "Non-trainable params: 0\n",
      "_________________________________________________________________\n",
      "Epoch 1/30\n",
      "3000/3000 [==============================] - 8s 2ms/step - loss: 0.8589 - accuracy: 0.7318 - val_loss: 0.3421 - val_accuracy: 0.9085\n",
      "Epoch 2/30\n",
      "3000/3000 [==============================] - 7s 2ms/step - loss: 0.5080 - accuracy: 0.8468 - val_loss: 0.2675 - val_accuracy: 0.9237\n",
      "Epoch 3/30\n",
      "3000/3000 [==============================] - 7s 2ms/step - loss: 0.4323 - accuracy: 0.8715 - val_loss: 0.2324 - val_accuracy: 0.9348\n",
      "Epoch 4/30\n",
      "3000/3000 [==============================] - 7s 2ms/step - loss: 0.3884 - accuracy: 0.8844 - val_loss: 0.2106 - val_accuracy: 0.9395\n",
      "Epoch 5/30\n",
      "3000/3000 [==============================] - 7s 2ms/step - loss: 0.3612 - accuracy: 0.8951 - val_loss: 0.1917 - val_accuracy: 0.9462\n",
      "Epoch 6/30\n",
      "3000/3000 [==============================] - 7s 2ms/step - loss: 0.3405 - accuracy: 0.8998 - val_loss: 0.1794 - val_accuracy: 0.9492\n",
      "Epoch 7/30\n",
      "3000/3000 [==============================] - 7s 2ms/step - loss: 0.3187 - accuracy: 0.9070 - val_loss: 0.1713 - val_accuracy: 0.9517\n",
      "Epoch 8/30\n",
      "3000/3000 [==============================] - 7s 2ms/step - loss: 0.3069 - accuracy: 0.9094 - val_loss: 0.1615 - val_accuracy: 0.9539\n",
      "Epoch 9/30\n",
      "3000/3000 [==============================] - 7s 2ms/step - loss: 0.2977 - accuracy: 0.9110 - val_loss: 0.1544 - val_accuracy: 0.9565\n",
      "Epoch 10/30\n",
      "3000/3000 [==============================] - 7s 2ms/step - loss: 0.2879 - accuracy: 0.9155 - val_loss: 0.1498 - val_accuracy: 0.9578\n",
      "Epoch 11/30\n",
      "3000/3000 [==============================] - 8s 3ms/step - loss: 0.2786 - accuracy: 0.9187 - val_loss: 0.1447 - val_accuracy: 0.9593\n",
      "Epoch 12/30\n",
      "2261/3000 [=====================>........] - ETA: 1s - loss: 0.2742 - accuracy: 0.9193"
     ]
    },
    {
     "ename": "KeyboardInterrupt",
     "evalue": "",
     "output_type": "error",
     "traceback": [
      "\u001b[1;31m---------------------------------------------------------------------------\u001b[0m",
      "\u001b[1;31mKeyboardInterrupt\u001b[0m                         Traceback (most recent call last)",
      "\u001b[1;32m~\\AppData\\Local\\Temp/ipykernel_11972/649968295.py\u001b[0m in \u001b[0;36m<module>\u001b[1;34m\u001b[0m\n\u001b[0;32m      4\u001b[0m \u001b[0mmodel_SGD\u001b[0m \u001b[1;33m=\u001b[0m \u001b[0mmodel\u001b[0m\u001b[1;33m(\u001b[0m\u001b[0moptimizer\u001b[0m\u001b[1;33m)\u001b[0m\u001b[1;33m\u001b[0m\u001b[1;33m\u001b[0m\u001b[0m\n\u001b[0;32m      5\u001b[0m \u001b[0mtensorboard_callback\u001b[0m \u001b[1;33m=\u001b[0m \u001b[0mTensorBoard\u001b[0m\u001b[1;33m(\u001b[0m\u001b[0mlog_dir\u001b[0m\u001b[1;33m=\u001b[0m\u001b[1;34m'./logs/'\u001b[0m\u001b[1;33m+\u001b[0m\u001b[0moptimizer\u001b[0m\u001b[1;33m,\u001b[0m \u001b[0mhistogram_freq\u001b[0m\u001b[1;33m=\u001b[0m\u001b[1;36m1\u001b[0m\u001b[1;33m)\u001b[0m\u001b[1;33m\u001b[0m\u001b[1;33m\u001b[0m\u001b[0m\n\u001b[1;32m----> 6\u001b[1;33m \u001b[0mhistory\u001b[0m \u001b[1;33m=\u001b[0m \u001b[0mmodel_SGD\u001b[0m\u001b[1;33m.\u001b[0m\u001b[0mfit\u001b[0m\u001b[1;33m(\u001b[0m\u001b[0mx_train_scaled\u001b[0m\u001b[1;33m,\u001b[0m \u001b[0my_train_cl\u001b[0m\u001b[1;33m,\u001b[0m \u001b[0mbatch_size\u001b[0m\u001b[1;33m=\u001b[0m\u001b[1;36m16\u001b[0m\u001b[1;33m,\u001b[0m \u001b[0mvalidation_split\u001b[0m\u001b[1;33m=\u001b[0m\u001b[1;36m0.2\u001b[0m\u001b[1;33m,\u001b[0m \u001b[0mepochs\u001b[0m\u001b[1;33m=\u001b[0m\u001b[1;36m30\u001b[0m\u001b[1;33m,\u001b[0m \u001b[0mcallbacks\u001b[0m\u001b[1;33m=\u001b[0m\u001b[1;33m[\u001b[0m\u001b[0mtensorboard_callback\u001b[0m\u001b[1;33m]\u001b[0m\u001b[1;33m)\u001b[0m\u001b[1;33m\u001b[0m\u001b[1;33m\u001b[0m\u001b[0m\n\u001b[0m\u001b[0;32m      7\u001b[0m \u001b[1;31m# ...\\logs\\SGD>\u001b[0m\u001b[1;33m\u001b[0m\u001b[1;33m\u001b[0m\u001b[1;33m\u001b[0m\u001b[0m\n\u001b[0;32m      8\u001b[0m \u001b[1;31m# RUN tensorboard --logdir=./\u001b[0m\u001b[1;33m\u001b[0m\u001b[1;33m\u001b[0m\u001b[1;33m\u001b[0m\u001b[0m\n",
      "\u001b[1;32m~\\mambaforge\\lib\\site-packages\\keras\\utils\\traceback_utils.py\u001b[0m in \u001b[0;36merror_handler\u001b[1;34m(*args, **kwargs)\u001b[0m\n\u001b[0;32m     62\u001b[0m     \u001b[0mfiltered_tb\u001b[0m \u001b[1;33m=\u001b[0m \u001b[1;32mNone\u001b[0m\u001b[1;33m\u001b[0m\u001b[1;33m\u001b[0m\u001b[0m\n\u001b[0;32m     63\u001b[0m     \u001b[1;32mtry\u001b[0m\u001b[1;33m:\u001b[0m\u001b[1;33m\u001b[0m\u001b[1;33m\u001b[0m\u001b[0m\n\u001b[1;32m---> 64\u001b[1;33m       \u001b[1;32mreturn\u001b[0m \u001b[0mfn\u001b[0m\u001b[1;33m(\u001b[0m\u001b[1;33m*\u001b[0m\u001b[0margs\u001b[0m\u001b[1;33m,\u001b[0m \u001b[1;33m**\u001b[0m\u001b[0mkwargs\u001b[0m\u001b[1;33m)\u001b[0m\u001b[1;33m\u001b[0m\u001b[1;33m\u001b[0m\u001b[0m\n\u001b[0m\u001b[0;32m     65\u001b[0m     \u001b[1;32mexcept\u001b[0m \u001b[0mException\u001b[0m \u001b[1;32mas\u001b[0m \u001b[0me\u001b[0m\u001b[1;33m:\u001b[0m  \u001b[1;31m# pylint: disable=broad-except\u001b[0m\u001b[1;33m\u001b[0m\u001b[1;33m\u001b[0m\u001b[0m\n\u001b[0;32m     66\u001b[0m       \u001b[0mfiltered_tb\u001b[0m \u001b[1;33m=\u001b[0m \u001b[0m_process_traceback_frames\u001b[0m\u001b[1;33m(\u001b[0m\u001b[0me\u001b[0m\u001b[1;33m.\u001b[0m\u001b[0m__traceback__\u001b[0m\u001b[1;33m)\u001b[0m\u001b[1;33m\u001b[0m\u001b[1;33m\u001b[0m\u001b[0m\n",
      "\u001b[1;32m~\\mambaforge\\lib\\site-packages\\keras\\engine\\training.py\u001b[0m in \u001b[0;36mfit\u001b[1;34m(self, x, y, batch_size, epochs, verbose, callbacks, validation_split, validation_data, shuffle, class_weight, sample_weight, initial_epoch, steps_per_epoch, validation_steps, validation_batch_size, validation_freq, max_queue_size, workers, use_multiprocessing)\u001b[0m\n\u001b[0;32m   1214\u001b[0m                 _r=1):\n\u001b[0;32m   1215\u001b[0m               \u001b[0mcallbacks\u001b[0m\u001b[1;33m.\u001b[0m\u001b[0mon_train_batch_begin\u001b[0m\u001b[1;33m(\u001b[0m\u001b[0mstep\u001b[0m\u001b[1;33m)\u001b[0m\u001b[1;33m\u001b[0m\u001b[1;33m\u001b[0m\u001b[0m\n\u001b[1;32m-> 1216\u001b[1;33m               \u001b[0mtmp_logs\u001b[0m \u001b[1;33m=\u001b[0m \u001b[0mself\u001b[0m\u001b[1;33m.\u001b[0m\u001b[0mtrain_function\u001b[0m\u001b[1;33m(\u001b[0m\u001b[0miterator\u001b[0m\u001b[1;33m)\u001b[0m\u001b[1;33m\u001b[0m\u001b[1;33m\u001b[0m\u001b[0m\n\u001b[0m\u001b[0;32m   1217\u001b[0m               \u001b[1;32mif\u001b[0m \u001b[0mdata_handler\u001b[0m\u001b[1;33m.\u001b[0m\u001b[0mshould_sync\u001b[0m\u001b[1;33m:\u001b[0m\u001b[1;33m\u001b[0m\u001b[1;33m\u001b[0m\u001b[0m\n\u001b[0;32m   1218\u001b[0m                 \u001b[0mcontext\u001b[0m\u001b[1;33m.\u001b[0m\u001b[0masync_wait\u001b[0m\u001b[1;33m(\u001b[0m\u001b[1;33m)\u001b[0m\u001b[1;33m\u001b[0m\u001b[1;33m\u001b[0m\u001b[0m\n",
      "\u001b[1;32m~\\mambaforge\\lib\\site-packages\\tensorflow\\python\\util\\traceback_utils.py\u001b[0m in \u001b[0;36merror_handler\u001b[1;34m(*args, **kwargs)\u001b[0m\n\u001b[0;32m    148\u001b[0m     \u001b[0mfiltered_tb\u001b[0m \u001b[1;33m=\u001b[0m \u001b[1;32mNone\u001b[0m\u001b[1;33m\u001b[0m\u001b[1;33m\u001b[0m\u001b[0m\n\u001b[0;32m    149\u001b[0m     \u001b[1;32mtry\u001b[0m\u001b[1;33m:\u001b[0m\u001b[1;33m\u001b[0m\u001b[1;33m\u001b[0m\u001b[0m\n\u001b[1;32m--> 150\u001b[1;33m       \u001b[1;32mreturn\u001b[0m \u001b[0mfn\u001b[0m\u001b[1;33m(\u001b[0m\u001b[1;33m*\u001b[0m\u001b[0margs\u001b[0m\u001b[1;33m,\u001b[0m \u001b[1;33m**\u001b[0m\u001b[0mkwargs\u001b[0m\u001b[1;33m)\u001b[0m\u001b[1;33m\u001b[0m\u001b[1;33m\u001b[0m\u001b[0m\n\u001b[0m\u001b[0;32m    151\u001b[0m     \u001b[1;32mexcept\u001b[0m \u001b[0mException\u001b[0m \u001b[1;32mas\u001b[0m \u001b[0me\u001b[0m\u001b[1;33m:\u001b[0m\u001b[1;33m\u001b[0m\u001b[1;33m\u001b[0m\u001b[0m\n\u001b[0;32m    152\u001b[0m       \u001b[0mfiltered_tb\u001b[0m \u001b[1;33m=\u001b[0m \u001b[0m_process_traceback_frames\u001b[0m\u001b[1;33m(\u001b[0m\u001b[0me\u001b[0m\u001b[1;33m.\u001b[0m\u001b[0m__traceback__\u001b[0m\u001b[1;33m)\u001b[0m\u001b[1;33m\u001b[0m\u001b[1;33m\u001b[0m\u001b[0m\n",
      "\u001b[1;32m~\\mambaforge\\lib\\site-packages\\tensorflow\\python\\eager\\def_function.py\u001b[0m in \u001b[0;36m__call__\u001b[1;34m(self, *args, **kwds)\u001b[0m\n\u001b[0;32m    908\u001b[0m \u001b[1;33m\u001b[0m\u001b[0m\n\u001b[0;32m    909\u001b[0m       \u001b[1;32mwith\u001b[0m \u001b[0mOptionalXlaContext\u001b[0m\u001b[1;33m(\u001b[0m\u001b[0mself\u001b[0m\u001b[1;33m.\u001b[0m\u001b[0m_jit_compile\u001b[0m\u001b[1;33m)\u001b[0m\u001b[1;33m:\u001b[0m\u001b[1;33m\u001b[0m\u001b[1;33m\u001b[0m\u001b[0m\n\u001b[1;32m--> 910\u001b[1;33m         \u001b[0mresult\u001b[0m \u001b[1;33m=\u001b[0m \u001b[0mself\u001b[0m\u001b[1;33m.\u001b[0m\u001b[0m_call\u001b[0m\u001b[1;33m(\u001b[0m\u001b[1;33m*\u001b[0m\u001b[0margs\u001b[0m\u001b[1;33m,\u001b[0m \u001b[1;33m**\u001b[0m\u001b[0mkwds\u001b[0m\u001b[1;33m)\u001b[0m\u001b[1;33m\u001b[0m\u001b[1;33m\u001b[0m\u001b[0m\n\u001b[0m\u001b[0;32m    911\u001b[0m \u001b[1;33m\u001b[0m\u001b[0m\n\u001b[0;32m    912\u001b[0m       \u001b[0mnew_tracing_count\u001b[0m \u001b[1;33m=\u001b[0m \u001b[0mself\u001b[0m\u001b[1;33m.\u001b[0m\u001b[0mexperimental_get_tracing_count\u001b[0m\u001b[1;33m(\u001b[0m\u001b[1;33m)\u001b[0m\u001b[1;33m\u001b[0m\u001b[1;33m\u001b[0m\u001b[0m\n",
      "\u001b[1;32m~\\mambaforge\\lib\\site-packages\\tensorflow\\python\\eager\\def_function.py\u001b[0m in \u001b[0;36m_call\u001b[1;34m(self, *args, **kwds)\u001b[0m\n\u001b[0;32m    940\u001b[0m       \u001b[1;31m# In this case we have created variables on the first call, so we run the\u001b[0m\u001b[1;33m\u001b[0m\u001b[1;33m\u001b[0m\u001b[1;33m\u001b[0m\u001b[0m\n\u001b[0;32m    941\u001b[0m       \u001b[1;31m# defunned version which is guaranteed to never create variables.\u001b[0m\u001b[1;33m\u001b[0m\u001b[1;33m\u001b[0m\u001b[1;33m\u001b[0m\u001b[0m\n\u001b[1;32m--> 942\u001b[1;33m       \u001b[1;32mreturn\u001b[0m \u001b[0mself\u001b[0m\u001b[1;33m.\u001b[0m\u001b[0m_stateless_fn\u001b[0m\u001b[1;33m(\u001b[0m\u001b[1;33m*\u001b[0m\u001b[0margs\u001b[0m\u001b[1;33m,\u001b[0m \u001b[1;33m**\u001b[0m\u001b[0mkwds\u001b[0m\u001b[1;33m)\u001b[0m  \u001b[1;31m# pylint: disable=not-callable\u001b[0m\u001b[1;33m\u001b[0m\u001b[1;33m\u001b[0m\u001b[0m\n\u001b[0m\u001b[0;32m    943\u001b[0m     \u001b[1;32melif\u001b[0m \u001b[0mself\u001b[0m\u001b[1;33m.\u001b[0m\u001b[0m_stateful_fn\u001b[0m \u001b[1;32mis\u001b[0m \u001b[1;32mnot\u001b[0m \u001b[1;32mNone\u001b[0m\u001b[1;33m:\u001b[0m\u001b[1;33m\u001b[0m\u001b[1;33m\u001b[0m\u001b[0m\n\u001b[0;32m    944\u001b[0m       \u001b[1;31m# Release the lock early so that multiple threads can perform the call\u001b[0m\u001b[1;33m\u001b[0m\u001b[1;33m\u001b[0m\u001b[1;33m\u001b[0m\u001b[0m\n",
      "\u001b[1;32m~\\mambaforge\\lib\\site-packages\\tensorflow\\python\\eager\\function.py\u001b[0m in \u001b[0;36m__call__\u001b[1;34m(self, *args, **kwargs)\u001b[0m\n\u001b[0;32m   3128\u001b[0m       (graph_function,\n\u001b[0;32m   3129\u001b[0m        filtered_flat_args) = self._maybe_define_function(args, kwargs)\n\u001b[1;32m-> 3130\u001b[1;33m     return graph_function._call_flat(\n\u001b[0m\u001b[0;32m   3131\u001b[0m         filtered_flat_args, captured_inputs=graph_function.captured_inputs)  # pylint: disable=protected-access\n\u001b[0;32m   3132\u001b[0m \u001b[1;33m\u001b[0m\u001b[0m\n",
      "\u001b[1;32m~\\mambaforge\\lib\\site-packages\\tensorflow\\python\\eager\\function.py\u001b[0m in \u001b[0;36m_call_flat\u001b[1;34m(self, args, captured_inputs, cancellation_manager)\u001b[0m\n\u001b[0;32m   1957\u001b[0m         and executing_eagerly):\n\u001b[0;32m   1958\u001b[0m       \u001b[1;31m# No tape is watching; skip to running the function.\u001b[0m\u001b[1;33m\u001b[0m\u001b[1;33m\u001b[0m\u001b[1;33m\u001b[0m\u001b[0m\n\u001b[1;32m-> 1959\u001b[1;33m       return self._build_call_outputs(self._inference_function.call(\n\u001b[0m\u001b[0;32m   1960\u001b[0m           ctx, args, cancellation_manager=cancellation_manager))\n\u001b[0;32m   1961\u001b[0m     forward_backward = self._select_forward_and_backward_functions(\n",
      "\u001b[1;32m~\\mambaforge\\lib\\site-packages\\tensorflow\\python\\eager\\function.py\u001b[0m in \u001b[0;36mcall\u001b[1;34m(self, ctx, args, cancellation_manager)\u001b[0m\n\u001b[0;32m    596\u001b[0m       \u001b[1;32mwith\u001b[0m \u001b[0m_InterpolateFunctionError\u001b[0m\u001b[1;33m(\u001b[0m\u001b[0mself\u001b[0m\u001b[1;33m)\u001b[0m\u001b[1;33m:\u001b[0m\u001b[1;33m\u001b[0m\u001b[1;33m\u001b[0m\u001b[0m\n\u001b[0;32m    597\u001b[0m         \u001b[1;32mif\u001b[0m \u001b[0mcancellation_manager\u001b[0m \u001b[1;32mis\u001b[0m \u001b[1;32mNone\u001b[0m\u001b[1;33m:\u001b[0m\u001b[1;33m\u001b[0m\u001b[1;33m\u001b[0m\u001b[0m\n\u001b[1;32m--> 598\u001b[1;33m           outputs = execute.execute(\n\u001b[0m\u001b[0;32m    599\u001b[0m               \u001b[0mstr\u001b[0m\u001b[1;33m(\u001b[0m\u001b[0mself\u001b[0m\u001b[1;33m.\u001b[0m\u001b[0msignature\u001b[0m\u001b[1;33m.\u001b[0m\u001b[0mname\u001b[0m\u001b[1;33m)\u001b[0m\u001b[1;33m,\u001b[0m\u001b[1;33m\u001b[0m\u001b[1;33m\u001b[0m\u001b[0m\n\u001b[0;32m    600\u001b[0m               \u001b[0mnum_outputs\u001b[0m\u001b[1;33m=\u001b[0m\u001b[0mself\u001b[0m\u001b[1;33m.\u001b[0m\u001b[0m_num_outputs\u001b[0m\u001b[1;33m,\u001b[0m\u001b[1;33m\u001b[0m\u001b[1;33m\u001b[0m\u001b[0m\n",
      "\u001b[1;32m~\\mambaforge\\lib\\site-packages\\tensorflow\\python\\eager\\execute.py\u001b[0m in \u001b[0;36mquick_execute\u001b[1;34m(op_name, num_outputs, inputs, attrs, ctx, name)\u001b[0m\n\u001b[0;32m     56\u001b[0m   \u001b[1;32mtry\u001b[0m\u001b[1;33m:\u001b[0m\u001b[1;33m\u001b[0m\u001b[1;33m\u001b[0m\u001b[0m\n\u001b[0;32m     57\u001b[0m     \u001b[0mctx\u001b[0m\u001b[1;33m.\u001b[0m\u001b[0mensure_initialized\u001b[0m\u001b[1;33m(\u001b[0m\u001b[1;33m)\u001b[0m\u001b[1;33m\u001b[0m\u001b[1;33m\u001b[0m\u001b[0m\n\u001b[1;32m---> 58\u001b[1;33m     tensors = pywrap_tfe.TFE_Py_Execute(ctx._handle, device_name, op_name,\n\u001b[0m\u001b[0;32m     59\u001b[0m                                         inputs, attrs, num_outputs)\n\u001b[0;32m     60\u001b[0m   \u001b[1;32mexcept\u001b[0m \u001b[0mcore\u001b[0m\u001b[1;33m.\u001b[0m\u001b[0m_NotOkStatusException\u001b[0m \u001b[1;32mas\u001b[0m \u001b[0me\u001b[0m\u001b[1;33m:\u001b[0m\u001b[1;33m\u001b[0m\u001b[1;33m\u001b[0m\u001b[0m\n",
      "\u001b[1;31mKeyboardInterrupt\u001b[0m: "
     ]
    }
   ],
   "source": [
    "# 2. Сравнить поведение процесса обучения различными оптимизаторами для модели (графики истории).\n",
    "\n",
    "optimizer = 'SGD'\n",
    "model_SGD = model(optimizer)\n",
    "tensorboard_callback = TensorBoard(log_dir='./logs/'+optimizer, histogram_freq=1)\n",
    "history = model_SGD.fit(x_train_scaled, y_train_cl, batch_size=16, validation_split=0.2, epochs=30, callbacks=[tensorboard_callback]) \n",
    "# ...\\logs\\SGD> \n",
    "# RUN tensorboard --logdir=./"
   ]
  },
  {
   "cell_type": "code",
   "execution_count": 15,
   "metadata": {},
   "outputs": [
    {
     "data": {
      "image/png": "[encoded data removed]",
      "text/plain": [
       "<Figure size 432x288 with 1 Axes>"
      ]
     },
     "metadata": {
      "needs_background": "light"
     },
     "output_type": "display_data"
    },
    {
     "name": "stdout",
     "output_type": "stream",
     "text": [
      "5\n"
     ]
    },
    {
     "data": {
      "image/png": "[encoded data removed]",
      "text/plain": [
       "<Figure size 432x288 with 1 Axes>"
      ]
     },
     "metadata": {
      "needs_background": "light"
     },
     "output_type": "display_data"
    },
    {
     "name": "stdout",
     "output_type": "stream",
     "text": [
      "0\n"
     ]
    }
   ],
   "source": [
    "# 3. Изменить структуру сети так, чтобы модель переобучалась (для этого можно использовать тест как валидацию). \n",
    "# Посмотреть, как это будут выглядеть графики обучения. \n",
    "# (Если не удаётся переобучить, то уменьшить размер тренировочной выборки).\n",
    "\n",
    "def model(opt):\n",
    "    model = tf.keras.models.Sequential()\n",
    "    model.add(tf.keras.layers.Dense(256,activation = 'relu',input_shape=(784,)))\n",
    "    #model.add(tf.keras.layers.Dropout(0.8))\n",
    "    model.add(tf.keras.layers.Dense(10, activation = 'softmax'))\n",
    "    model.compile(optimizer=opt, loss='categorical_crossentropy', metrics=['accuracy'])\n",
    "    #model.summary()\n",
    "    return model\n",
    "\n",
    "# train_dir = 'logs\\\\adam_overfitting\\\\train'\n",
    "# train_names = os.listdir(train_dir)\n",
    "\n",
    "# val_dir = 'logs\\\\adam_overfitting\\\\validation'\n",
    "# val_names = os.listdir(val_dir)\n",
    "\n",
    "# for x in train_names:\n",
    "#     path = os.path.join(os.path.abspath(os.path.dirname(x)), 'logs\\\\adam_overfitting\\\\train\\\\' + x)\n",
    "#     os.remove(path)\n",
    "# for x in val_names:\n",
    "#     path = os.path.join(os.path.abspath(os.path.dirname(x)), 'logs\\\\adam_overfitting\\\\validation\\\\' + x)\n",
    "#     os.remove(path)\n",
    "    \n",
    "x_train_scaled = x_train_scaled[:20]\n",
    "y_train_cl = y_train_cl[:20]\n",
    "for i in range (2):\n",
    "    plt.imshow(x_train_scaled.reshape(-1,28,28)[i])\n",
    "    plt.show()\n",
    "    print(np.argmax(y_train_cl[i]))\n",
    "\n",
    "# optimizer = 'adam'\n",
    "# tensorboard_callback = TensorBoard(log_dir='./logs/'+optimizer+'_overfitting', histogram_freq=1)\n",
    "# model_adam_overfitting = model(optimizer)\n",
    "\n",
    "# history = model_adam_overfitting.fit(x_train_scaled, y_train_cl, batch_size=16, validation_data=(x_test_scaled, y_test_cl),\n",
    "#                                       epochs=30, callbacks=[tensorboard_callback]) \n",
    "# y_pred = model_adam_overfitting.predict(x_test_scaled)"
   ]
  },
  {
   "cell_type": "code",
   "execution_count": null,
   "metadata": {},
   "outputs": [],
   "source": []
  },
  {
   "cell_type": "code",
   "execution_count": 2,
   "metadata": {},
   "outputs": [],
   "source": [
    "# 4. Использовать аугментацию при обучении. Сравнить графики.\n",
    "\n",
    "from sklearn.model_selection import train_test_split\n",
    "\n",
    "(x_train, y_train), (x_test, y_test) = mnist.load_data()\n",
    "x_train, x_val, y_train, y_val = train_test_split(x_train, y_train, test_size=0.2, random_state=1)\n",
    "\n",
    "y_val = to_categorical(y_val, num_classes=10)\n",
    "\n",
    "x_val = x_val.astype(\"float32\") / 255\n",
    "x_val = x_val.reshape(-1, 784) \n"
   ]
  },
  {
   "cell_type": "code",
   "execution_count": 3,
   "metadata": {},
   "outputs": [],
   "source": [
    "import random\n",
    "import cv2\n",
    "\n",
    "def aug(img):\n",
    "    (h, w) = img.shape\n",
    "    \n",
    "#    Поворот на случайный угол\n",
    "    if random.random() > 0.5:\n",
    "        center = (w // 2, h // 2)\n",
    "        angle = random.randint(-20,20)\n",
    "        M = cv2.getRotationMatrix2D(center, angle, 1)  # Указывается центр, угол поворота, масштаб\n",
    "        img = cv2.warpAffine(img, M, (h,w))\n",
    "    \n",
    "#    Размытие.\n",
    "    if random.random() > 0.5:\n",
    "        kernel = (random.randint(1,5), random.randint(1,5))\n",
    "        img = cv2.blur(img, kernel)\n",
    "          \n",
    "    return img"
   ]
  },
  {
   "cell_type": "code",
   "execution_count": 15,
   "metadata": {},
   "outputs": [],
   "source": [
    "def generator_with_aug(x, y, size):\n",
    "    images = []\n",
    "    labels = []\n",
    "    count = 0\n",
    "    \n",
    "    for i, l in zip(x,y):\n",
    "        \n",
    "        if random.random() > 0.2:  # Отключение аугментации = заккоментить эти две строчки\n",
    "            i = aug(i)\n",
    "            \n",
    "        i = i / 255\n",
    "        i = i.reshape(-1, 784)\n",
    "        \n",
    "        l = tf.keras.utils.to_categorical(l, num_classes=10)\n",
    "        \n",
    "        images.append(i)\n",
    "        labels.append(l)\n",
    "        count = count + 1\n",
    "        \n",
    "        if count % size == 0:\n",
    "            yield np.array(images).reshape(-1, size, 784)[0], np.array(labels)\n",
    "            images = []\n",
    "            labels = []"
   ]
  },
  {
   "cell_type": "code",
   "execution_count": 7,
   "metadata": {},
   "outputs": [],
   "source": [
    "def model(opt):\n",
    "    model = tf.keras.models.Sequential()\n",
    "    model.add(tf.keras.layers.Dense(256,activation = 'relu',input_shape=(784,)))\n",
    "    #model.add(tf.keras.layers.Dropout(0.8))\n",
    "    model.add(tf.keras.layers.Dense(10, activation = 'softmax'))\n",
    "    model.compile(optimizer=opt, loss='categorical_crossentropy', metrics=['accuracy'])\n",
    "    model.summary()\n",
    "    return model"
   ]
  },
  {
   "cell_type": "code",
   "execution_count": 8,
   "metadata": {},
   "outputs": [
    {
     "name": "stdout",
     "output_type": "stream",
     "text": [
      "Model: \"sequential_1\"\n",
      "_________________________________________________________________\n",
      " Layer (type)                Output Shape              Param #   \n",
      "=================================================================\n",
      " dense_2 (Dense)             (None, 256)               200960    \n",
      "                                                                 \n",
      " dense_3 (Dense)             (None, 10)                2570      \n",
      "                                                                 \n",
      "=================================================================\n",
      "Total params: 203,530\n",
      "Trainable params: 203,530\n",
      "Non-trainable params: 0\n",
      "_________________________________________________________________\n"
     ]
    }
   ],
   "source": [
    "optimizer = 'adam'\n",
    "tensorboard_callback = TensorBoard(log_dir='./logs/'+optimizer+'_overfitting_with_augmentation', histogram_freq=1)\n",
    "model_adam_overfitting = model(optimizer)"
   ]
  },
  {
   "cell_type": "code",
   "execution_count": 9,
   "metadata": {},
   "outputs": [],
   "source": [
    "x_train_dl = []\n",
    "y_train_dl = []\n",
    "\n",
    "for i in range(10):\n",
    "    count = 0\n",
    "    for j in range(len(y_train)):\n",
    "        if (y_train[j] == i):\n",
    "            #print(f\"j: {j}, y: {y_train[j]}\")\n",
    "            y_train_dl.append(y_train[j])\n",
    "            x_train_dl.append(x_train[j])\n",
    "            count += 1\n",
    "            if (count == 2): # Будет по две циферки\n",
    "                break"
   ]
  },
  {
   "cell_type": "code",
   "execution_count": 10,
   "metadata": {},
   "outputs": [
    {
     "name": "stdout",
     "output_type": "stream",
     "text": [
      "i: 0, y: 0\n",
      "i: 1, y: 0\n",
      "i: 2, y: 1\n",
      "i: 3, y: 1\n",
      "i: 4, y: 2\n",
      "i: 5, y: 2\n",
      "i: 6, y: 3\n",
      "i: 7, y: 3\n",
      "i: 8, y: 4\n",
      "i: 9, y: 4\n",
      "i: 10, y: 5\n",
      "i: 11, y: 5\n",
      "i: 12, y: 6\n",
      "i: 13, y: 6\n",
      "i: 14, y: 7\n",
      "i: 15, y: 7\n",
      "i: 16, y: 8\n",
      "i: 17, y: 8\n",
      "i: 18, y: 9\n",
      "i: 19, y: 9\n"
     ]
    }
   ],
   "source": [
    "for i in range(len(y_train_dl)):\n",
    "    print(f\"i: {i}, y: {y_train_dl[i]}\")\n",
    "    #plt.imshow(x_train_dl[i])\n",
    "    #plt.show()"
   ]
  },
  {
   "cell_type": "code",
   "execution_count": 11,
   "metadata": {},
   "outputs": [],
   "source": [
    "def train_generator_dl(batch_size, epochs):\n",
    "    for _ in range(epochs):\n",
    "        data_generator = generator_with_aug(x_train_dl, y_train_dl, batch_size)\n",
    "        yield from data_generator"
   ]
  },
  {
   "cell_type": "code",
   "execution_count": 14,
   "metadata": {},
   "outputs": [
    {
     "name": "stdout",
     "output_type": "stream",
     "text": [
      "12000\n"
     ]
    }
   ],
   "source": [
    "print(len(x_val))"
   ]
  },
  {
   "cell_type": "code",
   "execution_count": 12,
   "metadata": {},
   "outputs": [
    {
     "name": "stdout",
     "output_type": "stream",
     "text": [
      "Epoch 1/40\n",
      "4/4 [==============================] - 2s 306ms/step - loss: 2.6069 - accuracy: 0.0500 - val_loss: 2.2249 - val_accuracy: 0.2435\n",
      "Epoch 2/40\n",
      "4/4 [==============================] - 1s 226ms/step - loss: 1.6732 - accuracy: 0.6500 - val_loss: 2.0574 - val_accuracy: 0.3382\n",
      "Epoch 3/40\n",
      "4/4 [==============================] - 1s 221ms/step - loss: 1.1587 - accuracy: 0.9500 - val_loss: 1.9163 - val_accuracy: 0.4409\n",
      "Epoch 4/40\n",
      "4/4 [==============================] - 1s 216ms/step - loss: 0.7925 - accuracy: 1.0000 - val_loss: 1.7971 - val_accuracy: 0.4893\n",
      "Epoch 5/40\n",
      "4/4 [==============================] - 1s 195ms/step - loss: 0.5319 - accuracy: 1.0000 - val_loss: 1.7009 - val_accuracy: 0.5051\n",
      "Epoch 6/40\n",
      "4/4 [==============================] - 1s 224ms/step - loss: 0.3507 - accuracy: 1.0000 - val_loss: 1.6266 - val_accuracy: 0.5103\n",
      "Epoch 7/40\n",
      "4/4 [==============================] - 1s 224ms/step - loss: 0.2301 - accuracy: 1.0000 - val_loss: 1.5698 - val_accuracy: 0.5133\n",
      "Epoch 8/40\n",
      "4/4 [==============================] - 1s 224ms/step - loss: 0.1529 - accuracy: 1.0000 - val_loss: 1.5288 - val_accuracy: 0.5164\n",
      "Epoch 9/40\n",
      "4/4 [==============================] - 1s 218ms/step - loss: 0.1042 - accuracy: 1.0000 - val_loss: 1.4999 - val_accuracy: 0.5203\n",
      "Epoch 10/40\n",
      "4/4 [==============================] - 1s 229ms/step - loss: 0.0735 - accuracy: 1.0000 - val_loss: 1.4800 - val_accuracy: 0.5238\n",
      "Epoch 11/40\n",
      "4/4 [==============================] - 1s 226ms/step - loss: 0.0538 - accuracy: 1.0000 - val_loss: 1.4665 - val_accuracy: 0.5262\n",
      "Epoch 12/40\n",
      "4/4 [==============================] - 1s 218ms/step - loss: 0.0411 - accuracy: 1.0000 - val_loss: 1.4572 - val_accuracy: 0.5262\n",
      "Epoch 13/40\n",
      "4/4 [==============================] - 1s 203ms/step - loss: 0.0326 - accuracy: 1.0000 - val_loss: 1.4505 - val_accuracy: 0.5276\n",
      "Epoch 14/40\n",
      "4/4 [==============================] - 1s 250ms/step - loss: 0.0268 - accuracy: 1.0000 - val_loss: 1.4453 - val_accuracy: 0.5300\n",
      "Epoch 15/40\n",
      "4/4 [==============================] - 1s 240ms/step - loss: 0.0225 - accuracy: 1.0000 - val_loss: 1.4419 - val_accuracy: 0.5317\n",
      "Epoch 16/40\n",
      "4/4 [==============================] - 1s 226ms/step - loss: 0.0194 - accuracy: 1.0000 - val_loss: 1.4396 - val_accuracy: 0.5322\n",
      "Epoch 17/40\n",
      "4/4 [==============================] - 1s 224ms/step - loss: 0.0171 - accuracy: 1.0000 - val_loss: 1.4380 - val_accuracy: 0.5338\n",
      "Epoch 18/40\n",
      "4/4 [==============================] - 1s 239ms/step - loss: 0.0152 - accuracy: 1.0000 - val_loss: 1.4373 - val_accuracy: 0.5348\n",
      "Epoch 19/40\n",
      "4/4 [==============================] - 1s 234ms/step - loss: 0.0137 - accuracy: 1.0000 - val_loss: 1.4370 - val_accuracy: 0.5355\n",
      "Epoch 20/40\n",
      "4/4 [==============================] - 1s 211ms/step - loss: 0.0125 - accuracy: 1.0000 - val_loss: 1.4373 - val_accuracy: 0.5358\n",
      "Epoch 21/40\n",
      "4/4 [==============================] - 1s 227ms/step - loss: 0.0114 - accuracy: 1.0000 - val_loss: 1.4384 - val_accuracy: 0.5360\n",
      "Epoch 22/40\n",
      "4/4 [==============================] - 1s 234ms/step - loss: 0.0105 - accuracy: 1.0000 - val_loss: 1.4397 - val_accuracy: 0.5362\n",
      "Epoch 23/40\n",
      "4/4 [==============================] - 1s 236ms/step - loss: 0.0097 - accuracy: 1.0000 - val_loss: 1.4411 - val_accuracy: 0.5363\n",
      "Epoch 24/40\n",
      "4/4 [==============================] - 1s 234ms/step - loss: 0.0090 - accuracy: 1.0000 - val_loss: 1.4427 - val_accuracy: 0.5368\n",
      "Epoch 25/40\n",
      "4/4 [==============================] - 1s 234ms/step - loss: 0.0084 - accuracy: 1.0000 - val_loss: 1.4448 - val_accuracy: 0.5368\n",
      "Epoch 26/40\n",
      "4/4 [==============================] - 1s 227ms/step - loss: 0.0079 - accuracy: 1.0000 - val_loss: 1.4470 - val_accuracy: 0.5368\n",
      "Epoch 27/40\n",
      "4/4 [==============================] - 1s 218ms/step - loss: 0.0074 - accuracy: 1.0000 - val_loss: 1.4492 - val_accuracy: 0.5363\n",
      "Epoch 28/40\n",
      "4/4 [==============================] - 1s 224ms/step - loss: 0.0070 - accuracy: 1.0000 - val_loss: 1.4512 - val_accuracy: 0.5359\n",
      "Epoch 29/40\n",
      "4/4 [==============================] - 1s 234ms/step - loss: 0.0066 - accuracy: 1.0000 - val_loss: 1.4534 - val_accuracy: 0.5354\n",
      "Epoch 30/40\n",
      "4/4 [==============================] - 1s 229ms/step - loss: 0.0062 - accuracy: 1.0000 - val_loss: 1.4555 - val_accuracy: 0.5349\n",
      "Epoch 31/40\n",
      "4/4 [==============================] - 1s 234ms/step - loss: 0.0059 - accuracy: 1.0000 - val_loss: 1.4578 - val_accuracy: 0.5349\n",
      "Epoch 32/40\n",
      "4/4 [==============================] - 1s 201ms/step - loss: 0.0056 - accuracy: 1.0000 - val_loss: 1.4600 - val_accuracy: 0.5352\n",
      "Epoch 33/40\n",
      "4/4 [==============================] - 1s 244ms/step - loss: 0.0053 - accuracy: 1.0000 - val_loss: 1.4623 - val_accuracy: 0.5353\n",
      "Epoch 34/40\n",
      "4/4 [==============================] - 1s 241ms/step - loss: 0.0051 - accuracy: 1.0000 - val_loss: 1.4648 - val_accuracy: 0.5353\n",
      "Epoch 35/40\n",
      "4/4 [==============================] - 1s 239ms/step - loss: 0.0049 - accuracy: 1.0000 - val_loss: 1.4670 - val_accuracy: 0.5353\n",
      "Epoch 36/40\n",
      "4/4 [==============================] - 1s 239ms/step - loss: 0.0046 - accuracy: 1.0000 - val_loss: 1.4690 - val_accuracy: 0.5353\n",
      "Epoch 37/40\n",
      "4/4 [==============================] - 1s 238ms/step - loss: 0.0044 - accuracy: 1.0000 - val_loss: 1.4709 - val_accuracy: 0.5356\n",
      "Epoch 38/40\n",
      "4/4 [==============================] - 1s 239ms/step - loss: 0.0042 - accuracy: 1.0000 - val_loss: 1.4729 - val_accuracy: 0.5353\n",
      "Epoch 39/40\n",
      "4/4 [==============================] - 1s 224ms/step - loss: 0.0041 - accuracy: 1.0000 - val_loss: 1.4752 - val_accuracy: 0.5353\n",
      "Epoch 40/40\n",
      "4/4 [==============================] - 1s 239ms/step - loss: 0.0039 - accuracy: 1.0000 - val_loss: 1.4775 - val_accuracy: 0.5355\n"
     ]
    }
   ],
   "source": [
    "batch_size_dl = 5\n",
    "epochs_dl = 40\n",
    "steps_per_epoch_dl = int(len(x_train_dl) / batch_size_dl)\n",
    "\n",
    "history = model_adam_overfitting.fit(train_generator_dl(batch_size_dl, epochs_dl), \n",
    "                                     validation_data=(x_val, y_val),\n",
    "                                     steps_per_epoch = steps_per_epoch_dl,\n",
    "                                     epochs=epochs_dl, \n",
    "                                     callbacks=[tensorboard_callback])"
   ]
  },
  {
   "cell_type": "code",
   "execution_count": 16,
   "metadata": {},
   "outputs": [
    {
     "name": "stdout",
     "output_type": "stream",
     "text": [
      "Epoch 1/40\n",
      "4/4 [==============================] - 1s 234ms/step - loss: 0.1056 - accuracy: 0.9500 - val_loss: 1.5681 - val_accuracy: 0.5366\n",
      "Epoch 2/40\n",
      "4/4 [==============================] - 1s 221ms/step - loss: 0.1115 - accuracy: 1.0000 - val_loss: 1.6853 - val_accuracy: 0.5242\n",
      "Epoch 3/40\n",
      "4/4 [==============================] - 1s 234ms/step - loss: 0.2773 - accuracy: 0.9500 - val_loss: 1.6723 - val_accuracy: 0.5201\n",
      "Epoch 4/40\n",
      "4/4 [==============================] - 1s 218ms/step - loss: 0.1724 - accuracy: 0.9500 - val_loss: 1.5081 - val_accuracy: 0.5513\n",
      "Epoch 5/40\n",
      "4/4 [==============================] - 1s 223ms/step - loss: 0.3931 - accuracy: 0.9000 - val_loss: 1.5378 - val_accuracy: 0.5355\n",
      "Epoch 6/40\n",
      "4/4 [==============================] - 1s 224ms/step - loss: 0.0374 - accuracy: 1.0000 - val_loss: 1.6966 - val_accuracy: 0.5067\n",
      "Epoch 7/40\n",
      "4/4 [==============================] - 1s 234ms/step - loss: 0.1953 - accuracy: 0.9500 - val_loss: 1.7763 - val_accuracy: 0.5097\n",
      "Epoch 8/40\n",
      "4/4 [==============================] - 1s 221ms/step - loss: 0.0676 - accuracy: 1.0000 - val_loss: 1.8429 - val_accuracy: 0.5128\n",
      "Epoch 9/40\n",
      "4/4 [==============================] - 1s 223ms/step - loss: 0.1586 - accuracy: 0.9500 - val_loss: 1.8539 - val_accuracy: 0.5135\n",
      "Epoch 10/40\n",
      "4/4 [==============================] - 1s 218ms/step - loss: 0.1391 - accuracy: 0.9500 - val_loss: 1.8522 - val_accuracy: 0.5102\n",
      "Epoch 11/40\n",
      "4/4 [==============================] - 1s 227ms/step - loss: 0.1509 - accuracy: 0.9500 - val_loss: 1.8811 - val_accuracy: 0.5042\n",
      "Epoch 12/40\n",
      "4/4 [==============================] - 1s 221ms/step - loss: 0.1445 - accuracy: 0.9500 - val_loss: 1.9353 - val_accuracy: 0.5020\n",
      "Epoch 13/40\n",
      "4/4 [==============================] - 1s 224ms/step - loss: 0.0805 - accuracy: 1.0000 - val_loss: 1.9899 - val_accuracy: 0.5087\n",
      "Epoch 14/40\n",
      "4/4 [==============================] - 1s 228ms/step - loss: 0.0766 - accuracy: 1.0000 - val_loss: 2.1341 - val_accuracy: 0.4925\n",
      "Epoch 15/40\n",
      "4/4 [==============================] - 1s 254ms/step - loss: 0.0473 - accuracy: 1.0000 - val_loss: 2.2238 - val_accuracy: 0.4831\n",
      "Epoch 16/40\n",
      "4/4 [==============================] - 1s 200ms/step - loss: 0.3842 - accuracy: 0.9000 - val_loss: 1.9384 - val_accuracy: 0.5328\n",
      "Epoch 17/40\n",
      "4/4 [==============================] - 1s 216ms/step - loss: 0.0949 - accuracy: 1.0000 - val_loss: 1.7557 - val_accuracy: 0.5673\n",
      "Epoch 18/40\n",
      "4/4 [==============================] - 1s 206ms/step - loss: 0.0484 - accuracy: 1.0000 - val_loss: 1.8135 - val_accuracy: 0.5541\n",
      "Epoch 19/40\n",
      "4/4 [==============================] - 1s 224ms/step - loss: 0.1516 - accuracy: 0.9500 - val_loss: 1.8474 - val_accuracy: 0.5483\n",
      "Epoch 20/40\n",
      "4/4 [==============================] - 1s 218ms/step - loss: 0.0436 - accuracy: 1.0000 - val_loss: 1.8879 - val_accuracy: 0.5402\n",
      "Epoch 21/40\n",
      "4/4 [==============================] - 1s 229ms/step - loss: 0.0979 - accuracy: 0.9500 - val_loss: 1.8545 - val_accuracy: 0.5496\n",
      "Epoch 22/40\n",
      "4/4 [==============================] - 1s 226ms/step - loss: 0.1721 - accuracy: 0.9500 - val_loss: 1.7876 - val_accuracy: 0.5550\n",
      "Epoch 23/40\n",
      "4/4 [==============================] - 1s 224ms/step - loss: 0.0683 - accuracy: 1.0000 - val_loss: 1.7084 - val_accuracy: 0.5708\n",
      "Epoch 24/40\n",
      "4/4 [==============================] - 1s 223ms/step - loss: 0.0135 - accuracy: 1.0000 - val_loss: 1.6999 - val_accuracy: 0.5701\n",
      "Epoch 25/40\n",
      "4/4 [==============================] - 1s 234ms/step - loss: 0.0383 - accuracy: 1.0000 - val_loss: 1.7365 - val_accuracy: 0.5668\n",
      "Epoch 26/40\n",
      "4/4 [==============================] - 1s 229ms/step - loss: 0.0158 - accuracy: 1.0000 - val_loss: 1.7819 - val_accuracy: 0.5611\n",
      "Epoch 27/40\n",
      "4/4 [==============================] - 1s 216ms/step - loss: 0.0194 - accuracy: 1.0000 - val_loss: 1.7713 - val_accuracy: 0.5631\n",
      "Epoch 28/40\n",
      "4/4 [==============================] - 1s 213ms/step - loss: 0.0102 - accuracy: 1.0000 - val_loss: 1.7618 - val_accuracy: 0.5665\n",
      "Epoch 29/40\n",
      "4/4 [==============================] - 1s 230ms/step - loss: 0.0093 - accuracy: 1.0000 - val_loss: 1.7393 - val_accuracy: 0.5690\n",
      "Epoch 30/40\n",
      "4/4 [==============================] - 1s 231ms/step - loss: 0.0151 - accuracy: 1.0000 - val_loss: 1.7252 - val_accuracy: 0.5727\n",
      "Epoch 31/40\n",
      "4/4 [==============================] - 1s 223ms/step - loss: 0.0479 - accuracy: 1.0000 - val_loss: 1.6959 - val_accuracy: 0.5770\n",
      "Epoch 32/40\n",
      "4/4 [==============================] - 1s 206ms/step - loss: 0.0467 - accuracy: 1.0000 - val_loss: 1.6887 - val_accuracy: 0.5774\n",
      "Epoch 33/40\n",
      "4/4 [==============================] - 1s 218ms/step - loss: 0.0117 - accuracy: 1.0000 - val_loss: 1.7174 - val_accuracy: 0.5713\n",
      "Epoch 34/40\n",
      "4/4 [==============================] - 1s 221ms/step - loss: 0.0091 - accuracy: 1.0000 - val_loss: 1.7388 - val_accuracy: 0.5675\n",
      "Epoch 35/40\n",
      "4/4 [==============================] - 1s 224ms/step - loss: 0.0108 - accuracy: 1.0000 - val_loss: 1.7450 - val_accuracy: 0.5669\n",
      "Epoch 36/40\n",
      "4/4 [==============================] - 1s 217ms/step - loss: 0.0273 - accuracy: 1.0000 - val_loss: 1.7443 - val_accuracy: 0.5679\n",
      "Epoch 37/40\n",
      "4/4 [==============================] - 1s 221ms/step - loss: 0.0136 - accuracy: 1.0000 - val_loss: 1.7500 - val_accuracy: 0.5688\n",
      "Epoch 38/40\n",
      "4/4 [==============================] - 1s 223ms/step - loss: 0.0234 - accuracy: 1.0000 - val_loss: 1.7496 - val_accuracy: 0.5706\n",
      "Epoch 39/40\n",
      "4/4 [==============================] - 1s 239ms/step - loss: 0.0212 - accuracy: 1.0000 - val_loss: 1.7376 - val_accuracy: 0.5752\n",
      "Epoch 40/40\n",
      "4/4 [==============================] - 1s 234ms/step - loss: 0.0087 - accuracy: 1.0000 - val_loss: 1.7326 - val_accuracy: 0.5786\n"
     ]
    }
   ],
   "source": [
    "batch_size_dl = 5\n",
    "epochs_dl = 40\n",
    "steps_per_epoch_dl = int(len(x_train_dl) / batch_size_dl)\n",
    "\n",
    "history = model_adam_overfitting.fit(train_generator_dl(batch_size_dl, epochs_dl), \n",
    "                                     validation_data=(x_val, y_val),\n",
    "                                     steps_per_epoch = steps_per_epoch_dl,\n",
    "                                     epochs=epochs_dl, \n",
    "                                     callbacks=[tensorboard_callback]) "
   ]
  },
  {
   "cell_type": "code",
   "execution_count": 19,
   "metadata": {},
   "outputs": [],
   "source": [
    "for i,j in generator_with_aug(x_test, y_test, batch_size_dl):\n",
    "    break\n",
    "    \n",
    "y_pred = model_adam_overfitting.predict(i)"
   ]
  },
  {
   "cell_type": "code",
   "execution_count": 20,
   "metadata": {},
   "outputs": [
    {
     "data": {
      "image/png": "[encoded data removed]",
      "text/plain": [
       "<Figure size 432x288 with 5 Axes>"
      ]
     },
     "metadata": {
      "needs_background": "light"
     },
     "output_type": "display_data"
    }
   ],
   "source": [
    "for k in range(batch_size_dl):\n",
    "    plt.subplot(1, batch_size_dl, k+1)\n",
    "    plt.imshow(i.reshape(-1,28,28)[k], cmap='gray')\n",
    "    plt.title(np.argmax(y_pred[k]))\n",
    "plt.show()"
   ]
  }
 ],
 "metadata": {
  "celltoolbar": "Slideshow",
  "kernelspec": {
   "display_name": "Python 3 (ipykernel)",
   "language": "python",
   "name": "python3"
  },
  "language_info": {
   "codemirror_mode": {
    "name": "ipython",
    "version": 3
   },
   "file_extension": ".py",
   "mimetype": "text/x-python",
   "name": "python",
   "nbconvert_exporter": "python",
   "pygments_lexer": "ipython3",
   "version": "3.9.6"
  }
 },
 "nbformat": 4,
 "nbformat_minor": 4
}

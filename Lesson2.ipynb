{
 "cells": [
  {
   "cell_type": "markdown",
   "metadata": {},
   "source": [
    "# Задания\n",
    "1. Вводится строка. Определить является ли она палиндромом и вывести соответствующее сообщение.\n",
    "2. В строке, состоящей из слов, разделенных пробелом, найти самое длинное слово.\n",
    "3. Генерируется список случайных целых чисел. Определить, сколько в нем четных чисел, а сколько нечетных.\n",
    "4. Дан словарь, состоящий из пар слов. Каждое слово является синонимом к парному ему слову. Все слова в словаре различны. Заменить в строке все слова, входящие в словарь, как ключи, на их синонимы.\n",
    "5. Напишите функцию fib(n), которая по данному целому неотрицательному n возвращает n-e число Фибоначчи. В этой задаче нельзя использовать циклы — используйте рекурсию.\n",
    "6. Сосчитайте количество строк, слов и букв в файле. (слова разделены пробелом, _\\n_ не считается символом)"
   ]
  },
  {
   "cell_type": "code",
   "execution_count": 2,
   "metadata": {},
   "outputs": [
    {
     "name": "stdout",
     "output_type": "stream",
     "text": [
      "str is palindrome\n",
      "a123321a\n",
      "a123321a\n"
     ]
    }
   ],
   "source": [
    "# 1. Вводится строка. Определить является ли она палиндромом и вывести соответствующее сообщение \n",
    "\n",
    "str1 = 'a123321a';\n",
    "str2 = str1[::-1]\n",
    "if (str1 == str2):\n",
    "    print('str is palindrome')\n",
    "else:\n",
    "    print('str is not palindrome')    \n",
    "print(str1)\n",
    "print(str2)"
   ]
  },
  {
   "cell_type": "code",
   "execution_count": 157,
   "metadata": {},
   "outputs": [
    {
     "name": "stdout",
     "output_type": "stream",
     "text": [
      "11111111111111111111111ss111111111111111111111111\n"
     ]
    }
   ],
   "source": [
    "# 2. В строке, состоящей из слов, разделенных пробелом, найти самое длинное слово \n",
    "\n",
    "str1 = 'literals 11111111111111111111111ss111111111111111111111111 gggggggggggggggghhhhhhhh StriuhdigaygbcflwBNEVIGEPBNRJVing Concatenation'\n",
    "mylst = str1.split(' ')\n",
    "long_str = ''\n",
    "for x in mylst:\n",
    "    if ( len(long_str) >= len(x) ):\n",
    "        continue\n",
    "    else:\n",
    "        long_str = x \n",
    "\n",
    "print(long_str)   "
   ]
  },
  {
   "cell_type": "code",
   "execution_count": 4,
   "metadata": {},
   "outputs": [
    {
     "name": "stdout",
     "output_type": "stream",
     "text": [
      "[6, 7, 9, 1, 3]\n",
      "Четных =  1 \n",
      "НЕчетных =  4\n"
     ]
    }
   ],
   "source": [
    "# 3. Генерируется список случайных целых чисел. Определить, сколько в нем четных чисел, а сколько нечетных \n",
    "import random\n",
    "\n",
    "numbers = [random.randint(0, 10) for _ in range(5)]\n",
    "print(numbers)    \n",
    "even_count = 0; \n",
    "#odd_count = 0;\n",
    "for x in numbers:\n",
    "    if ( x % 2 == 0):\n",
    "        even_count = even_count + 1;\n",
    "    #else:\n",
    "        #odd_count = odd_count + 1;\n",
    "print(\"Четных = \", even_count, \"\\nНЕчетных = \", len(numbers) - even_count)"
   ]
  },
  {
   "cell_type": "code",
   "execution_count": 6,
   "metadata": {},
   "outputs": [
    {
     "name": "stdout",
     "output_type": "stream",
     "text": [
      "смех убивает(!) cтрах, а без страха нет веры, потому что кто не боится дьявола, тому не нужен бог.\n",
      "хохот уничтожает(!) cтрах, а без страха нет веры, потому что кто не боится дьявола, тому не нужен господь.\n"
     ]
    }
   ],
   "source": [
    "# 4. Дан словарь, состоящий из пар слов. Каждое слово является синонимом к парному ему слову. Все слова в словаре различны.\n",
    "#Заменить в строке все слова, входящие в словарь, как ключи, на их синонимы.\n",
    "\n",
    "d = dict(смех='хохот', убивает='уничтожает', бог='господь')\n",
    "s = 'смех убивает(!) cтрах, а без страха нет веры, потому что кто не боится дьявола, тому не нужен бог.'\n",
    "print(s)\n",
    "#s = s.replace(\",\", \"\")\n",
    "# = s.split()\n",
    "#for n in range(0,len(s)):\n",
    "    #for k, v in d.items():\n",
    "        #if ( s[n] == k):\n",
    "            #s[n] = v\n",
    "            \n",
    "for k, v in d.items():\n",
    "    s = s.replace(k,v)          \n",
    "print(s)\n",
    "                "
   ]
  },
  {
   "cell_type": "code",
   "execution_count": 5,
   "metadata": {},
   "outputs": [
    {
     "name": "stdout",
     "output_type": "stream",
     "text": [
      "3\n"
     ]
    }
   ],
   "source": [
    "# 5. Напишите функцию fib(n), \n",
    "#которая по данному целому неотрицательному n возвращает n-e число Фибоначчи. \n",
    "#В этой задаче нельзя использовать циклы — используйте рекурсию.   0 1 1 2 3 5 8 13\n",
    "def fib(x):\n",
    "    if (x == 1):\n",
    "        return 0;\n",
    "    if (x == 2):\n",
    "        return 1;\n",
    "    else:\n",
    "        return fib(x - 1) + fib(x - 2)\n",
    "    \n",
    "#def fib(x=1):    \n",
    " #   return 0;\n",
    "#def fib(x=2):\n",
    " #   return 1;\n",
    "\n",
    "print(fib(5))"
   ]
  },
  {
   "cell_type": "code",
   "execution_count": 38,
   "metadata": {},
   "outputs": [
    {
     "name": "stdout",
     "output_type": "stream",
     "text": [
      "Hello\n",
      "\n",
      "world!\n",
      "\n",
      "2 2 11\n"
     ]
    }
   ],
   "source": [
    "# 6. Сосчитайте количество строк, слов и букв в файле. (слова разделены пробелом, \\n не считается символом) \n",
    "line_counter = 0;\n",
    "words_counter = 0;\n",
    "literal_counter = 0;\n",
    "f = open('example.txt')\n",
    "for line in f:\n",
    "    print(line)\n",
    "    line_counter += 1\n",
    "    \n",
    "    words = line.split()\n",
    "    \n",
    "    for x in words:\n",
    "        words_counter += 1\n",
    "        wordLen = len(x)\n",
    "        literal_counter += wordLen\n",
    "    \n",
    "        \n",
    "f.close()\n",
    "print(line_counter, words_counter, literal_counter)"
   ]
  }
 ],
 "metadata": {
  "celltoolbar": "Slideshow",
  "kernelspec": {
   "display_name": "Python 3 (ipykernel)",
   "language": "python",
   "name": "python3"
  },
  "language_info": {
   "codemirror_mode": {
    "name": "ipython",
    "version": 3
   },
   "file_extension": ".py",
   "mimetype": "text/x-python",
   "name": "python",
   "nbconvert_exporter": "python",
   "pygments_lexer": "ipython3",
   "version": "3.9.6"
  }
 },
 "nbformat": 4,
 "nbformat_minor": 4
}
